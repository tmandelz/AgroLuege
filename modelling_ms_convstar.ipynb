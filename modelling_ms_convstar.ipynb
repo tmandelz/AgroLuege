{
 "cells": [
  {
   "cell_type": "code",
   "execution_count": null,
   "metadata": {},
   "outputs": [],
   "source": [
    "from src import train\n",
    "from src import test\n",
    "import numpy as np\n",
    "import torch\n",
    "import wandb"
   ]
  },
  {
   "cell_type": "code",
   "execution_count": 4,
   "metadata": {},
   "outputs": [
    {
     "name": "stdout",
     "output_type": "stream",
     "text": [
      "Skip something between [11.0, 11.0] for the winter\n"
     ]
    }
   ],
   "source": [
    "january_february = 31 + 28\n",
    "november_december = 30 + 31\n",
    "\n",
    "year= 365\n",
    "single_step = 365 / 71 \n",
    "\n",
    "skip_beginning = january_february // single_step\n",
    "skip_end = november_december // single_step\n",
    "\n",
    "print(f\"Skip something between {[skip_beginning,skip_end]} for the winter\")"
   ]
  },
  {
   "cell_type": "code",
   "execution_count": null,
   "metadata": {},
   "outputs": [],
   "source": [
    "output = train.main(\n",
    "    datadir = \"./raw_data/ZueriCrop/ZueriCrop.hdf5\",\n",
    "    workers= 0,\n",
    "    batchsize=4,\n",
    "    epochs=30,\n",
    "    lr=0.001,\n",
    "    snapshot=None,\n",
    "    checkpoint_dir=\"./checkpoint/\",\n",
    "    layer=6,\n",
    "    lambda_1=0.1,\n",
    "    lambda_2=0.5,\n",
    "    weight_decay=0.0001,\n",
    "    hidden=64,\n",
    "    lrS=2,\n",
    "    name=\"msConvSTAR\",\n",
    "    dropout=0.5,\n",
    "    stage=3,\n",
    "    clip=5,\n",
    "    seed=0,\n",
    "    gt_path=\"./raw_data/ZueriCrop/labels.csv\",\n",
    "    cell=\"star\",\n",
    "    input_dim=4,\n",
    "    apply_cm=False,\n",
    "    fold_num=1,\n",
    "    project= \"MS-Convstar\",\n",
    "    run_group=\"test all levels\",\n",
    "    skip_winter=True,\n",
    "    n_skip_image=11\n",
    ")"
   ]
  }
 ],
 "metadata": {
  "kernelspec": {
   "display_name": "agroluege",
   "language": "python",
   "name": "agroluege"
  },
  "language_info": {
   "codemirror_mode": {
    "name": "ipython",
    "version": 3
   },
   "file_extension": ".py",
   "mimetype": "text/x-python",
   "name": "python",
   "nbconvert_exporter": "python",
   "pygments_lexer": "ipython3",
   "version": "3.9.4"
  }
 },
 "nbformat": 4,
 "nbformat_minor": 4
}
