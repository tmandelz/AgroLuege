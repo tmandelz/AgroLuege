{
 "cells": [
  {
   "cell_type": "code",
   "execution_count": 1,
   "metadata": {},
   "outputs": [],
   "source": [
    "from src import train\n",
    "from src import test\n",
    "import numpy as np\n",
    "import torch\n",
    "import wandb"
   ]
  },
  {
   "cell_type": "code",
   "execution_count": 2,
   "metadata": {},
   "outputs": [
    {
     "name": "stdout",
     "output_type": "stream",
     "text": [
      "5fold:  1   Mode:  train\n",
      "Dataset size:  27977\n",
      "Valid dataset size:  22382\n",
      "Sequence length:  71\n",
      "Spatial size:  (24, 24)\n",
      "Number of classes:  52\n",
      "Number of classes - local-1:  6\n",
      "Number of classes - local-2:  20\n",
      "5fold:  1   Mode:  test\n",
      "Dataset size:  27977\n",
      "Valid dataset size:  5595\n",
      "Sequence length:  71\n",
      "Spatial size:  (24, 24)\n",
      "Number of classes:  52\n",
      "Number of classes - local-1:  6\n",
      "Number of classes - local-2:  20\n",
      "convSTAR cell is constructed with h_dim:  64\n",
      "convSTAR cell is constructed with h_dim:  64\n",
      "convSTAR cell is constructed with h_dim:  64\n",
      "convSTAR cell is constructed with h_dim:  64\n",
      "convSTAR cell is constructed with h_dim:  64\n",
      "convSTAR cell is constructed with h_dim:  64\n",
      "Num params:  952526\n",
      "CUDA available:  True\n"
     ]
    },
    {
     "name": "stderr",
     "output_type": "stream",
     "text": [
      "c:\\Users\\j\\gitlab\\AgroLuege\\models\\convstar.py:22: UserWarning: nn.init.orthogonal is now deprecated in favor of nn.init.orthogonal_.\n",
      "  init.orthogonal(self.update.weight)\n",
      "c:\\Users\\j\\gitlab\\AgroLuege\\models\\convstar.py:23: UserWarning: nn.init.orthogonal is now deprecated in favor of nn.init.orthogonal_.\n",
      "  init.orthogonal(self.gate.weight)\n",
      "c:\\Users\\j\\gitlab\\AgroLuege\\models\\convstar.py:24: UserWarning: nn.init.constant is now deprecated in favor of nn.init.constant_.\n",
      "  init.constant(self.update.bias, 0.)\n",
      "c:\\Users\\j\\gitlab\\AgroLuege\\models\\convstar.py:25: UserWarning: nn.init.constant is now deprecated in favor of nn.init.constant_.\n",
      "  init.constant(self.gate.bias, 1.)\n",
      "Failed to detect the name of this notebook, you can set it manually with the WANDB_NOTEBOOK_NAME environment variable to enable code saving.\n",
      "\u001b[34m\u001b[1mwandb\u001b[0m: Currently logged in as: \u001b[33mjan-zwicky\u001b[0m (\u001b[33magroluege\u001b[0m). Use \u001b[1m`wandb login --relogin`\u001b[0m to force relogin\n"
     ]
    },
    {
     "data": {
      "text/html": [
       "wandb version 0.15.12 is available!  To upgrade, please run:\n",
       " $ pip install wandb --upgrade"
      ],
      "text/plain": [
       "<IPython.core.display.HTML object>"
      ]
     },
     "metadata": {},
     "output_type": "display_data"
    },
    {
     "data": {
      "text/html": [
       "Tracking run with wandb version 0.13.10"
      ],
      "text/plain": [
       "<IPython.core.display.HTML object>"
      ]
     },
     "metadata": {},
     "output_type": "display_data"
    },
    {
     "data": {
      "text/html": [
       "Run data is saved locally in <code>c:\\Users\\j\\gitlab\\AgroLuege\\wandb\\run-20231106_173858-zg54uy24</code>"
      ],
      "text/plain": [
       "<IPython.core.display.HTML object>"
      ]
     },
     "metadata": {},
     "output_type": "display_data"
    },
    {
     "data": {
      "text/html": [
       "Syncing run <strong><a href='https://wandb.ai/agroluege/MS-Convstar/runs/zg54uy24' target=\"_blank\">1-Fold</a></strong> to <a href='https://wandb.ai/agroluege/MS-Convstar' target=\"_blank\">Weights & Biases</a> (<a href='https://wandb.me/run' target=\"_blank\">docs</a>)<br/>"
      ],
      "text/plain": [
       "<IPython.core.display.HTML object>"
      ]
     },
     "metadata": {},
     "output_type": "display_data"
    },
    {
     "data": {
      "text/html": [
       " View project at <a href='https://wandb.ai/agroluege/MS-Convstar' target=\"_blank\">https://wandb.ai/agroluege/MS-Convstar</a>"
      ],
      "text/plain": [
       "<IPython.core.display.HTML object>"
      ]
     },
     "metadata": {},
     "output_type": "display_data"
    },
    {
     "data": {
      "text/html": [
       " View run at <a href='https://wandb.ai/agroluege/MS-Convstar/runs/zg54uy24' target=\"_blank\">https://wandb.ai/agroluege/MS-Convstar/runs/zg54uy24</a>"
      ],
      "text/plain": [
       "<IPython.core.display.HTML object>"
      ]
     },
     "metadata": {},
     "output_type": "display_data"
    },
    {
     "name": "stdout",
     "output_type": "stream",
     "text": [
      "\n",
      "Epoch 1\n"
     ]
    },
    {
     "name": "stderr",
     "output_type": "stream",
     "text": [
      "15it [00:08,  1.84it/s]\n"
     ]
    },
    {
     "name": "stdout",
     "output_type": "stream",
     "text": [
      "0.01772735890791885 Precision\n",
      "Model saved! Best val acc: 0.41783332331911316\n",
      "\n",
      "Epoch 2\n"
     ]
    },
    {
     "name": "stderr",
     "output_type": "stream",
     "text": [
      "15it [00:08,  1.84it/s]\n"
     ]
    },
    {
     "name": "stdout",
     "output_type": "stream",
     "text": [
      "0.015207090594824984 Precision\n",
      "\n",
      "Epoch 3\n"
     ]
    },
    {
     "name": "stderr",
     "output_type": "stream",
     "text": [
      "15it [00:08,  1.83it/s]\n"
     ]
    },
    {
     "name": "stdout",
     "output_type": "stream",
     "text": [
      "0.012290931044480898 Precision\n",
      "\n",
      "Epoch 4\n"
     ]
    },
    {
     "name": "stderr",
     "output_type": "stream",
     "text": [
      "15it [00:08,  1.81it/s]\n"
     ]
    },
    {
     "name": "stdout",
     "output_type": "stream",
     "text": [
      "0.016808814798669698 Precision\n"
     ]
    },
    {
     "name": "stderr",
     "output_type": "stream",
     "text": [
      "15it [00:08,  1.83it/s]\n",
      "c:\\Users\\j\\gitlab\\AgroLuege\\src\\eval.py:112: RuntimeWarning: invalid value encountered in scalar divide\n",
      "  overall_accuracy = np.sum(np.diag(confusion_matrix)) / total\n",
      "c:\\Users\\j\\gitlab\\AgroLuege\\src\\eval.py:116: RuntimeWarning: invalid value encountered in scalar divide\n",
      "  p0 = np.sum(np.diag(confusion_matrix)) / N\n",
      "c:\\Users\\j\\gitlab\\AgroLuege\\src\\eval.py:117: RuntimeWarning: invalid value encountered in scalar divide\n",
      "  pc = np.sum(np.sum(confusion_matrix, axis=0) * np.sum(confusion_matrix, axis=1)) / N ** 2\n"
     ]
    },
    {
     "name": "stdout",
     "output_type": "stream",
     "text": [
      "0.0 Precision\n"
     ]
    },
    {
     "name": "stderr",
     "output_type": "stream",
     "text": [
      "15it [00:07,  2.08it/s]\n",
      "c:\\Users\\j\\gitlab\\AgroLuege\\src\\eval.py:112: RuntimeWarning: invalid value encountered in scalar divide\n",
      "  overall_accuracy = np.sum(np.diag(confusion_matrix)) / total\n",
      "c:\\Users\\j\\gitlab\\AgroLuege\\src\\eval.py:116: RuntimeWarning: invalid value encountered in scalar divide\n",
      "  p0 = np.sum(np.diag(confusion_matrix)) / N\n",
      "c:\\Users\\j\\gitlab\\AgroLuege\\src\\eval.py:117: RuntimeWarning: invalid value encountered in scalar divide\n",
      "  pc = np.sum(np.sum(confusion_matrix, axis=0) * np.sum(confusion_matrix, axis=1)) / N ** 2\n"
     ]
    },
    {
     "name": "stdout",
     "output_type": "stream",
     "text": [
      "0.0 Precision\n"
     ]
    }
   ],
   "source": [
    "output = train.main(\n",
    "    datadir = \"./raw_data/ZueriCrop/ZueriCrop.hdf5\",\n",
    "    workers= 0,\n",
    "    batchsize=4,\n",
    "    epochs=4,\n",
    "    lr=0.0001,\n",
    "    snapshot=None,\n",
    "    checkpoint_dir=\"./checkpoint/\",\n",
    "    layer=6,\n",
    "    lambda_1=0.1,\n",
    "    lambda_2=0.5,\n",
    "    weight_decay=0.0001,\n",
    "    hidden=64,\n",
    "    lrS=2,\n",
    "    name=\"msConvSTAR\",\n",
    "    dropout=0.5,\n",
    "    stage=3,\n",
    "    clip=5,\n",
    "    seed=0,\n",
    "    gt_path=\"./raw_data/ZueriCrop/labels.csv\",\n",
    "    cell=\"star\",\n",
    "    input_dim=4,\n",
    "    apply_cm=False,\n",
    "    fold_num=1,\n",
    "    project= \"MS-Convstar\",\n",
    "    run_group=\"test all levels\"\n",
    ")"
   ]
  }
 ],
 "metadata": {
  "kernelspec": {
   "display_name": "Python 3",
   "language": "python",
   "name": "python3"
  },
  "language_info": {
   "codemirror_mode": {
    "name": "ipython",
    "version": 3
   },
   "file_extension": ".py",
   "mimetype": "text/x-python",
   "name": "python",
   "nbconvert_exporter": "python",
   "pygments_lexer": "ipython3",
   "version": "3.10.7"
  }
 },
 "nbformat": 4,
 "nbformat_minor": 2
}
