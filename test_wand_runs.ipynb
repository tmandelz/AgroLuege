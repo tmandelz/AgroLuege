{
 "cells": [
  {
   "cell_type": "code",
   "execution_count": 1,
   "metadata": {},
   "outputs": [],
   "source": [
    "import wandb"
   ]
  },
  {
   "cell_type": "code",
   "execution_count": 2,
   "metadata": {},
   "outputs": [],
   "source": [
    "wandb.finish()"
   ]
  },
  {
   "cell_type": "code",
   "execution_count": null,
   "metadata": {},
   "outputs": [],
   "source": [
    "import wandb\n",
    "\n",
    "\n",
    "# Initialize a list or dictionary to keep track of wandb runs for each test set\n",
    "wandb_runs = {}\n",
    "\n",
    "# Training and testing loop\n",
    "for epoch in range(1, 9):  # 8 epochs\n",
    "    # model.train()  # Train model\n",
    "\n",
    "    for set_number in range(1, 6):  # 5 different training sets\n",
    "        # Initialize wandb run at the beginning of the first epoch for each set\n",
    "        if epoch == 1:\n",
    "            wandb_runs[set_number] = wandb.init(project=\"test_multiple\",group=\"test_2\",entity=\"agroluege\", name=f\"set_{set_number}\",id=f\"set_{set_number}\", reinit=True, resume=\"allow\")\n",
    "        else:\n",
    "            wandb.init(project=\"test_multiple\",entity=\"agroluege\",group=\"test_2\",id=f\"set_{set_number}\", resume=\"allow\")\n",
    "        test_result = epoch + set_number*10  # Test on current set\n",
    "\n",
    "        # Log results to the current wandb run\n",
    "        wandb.log({\n",
    "            \"epoch\": epoch,\n",
    "            \"test_result\": test_result\n",
    "        })\n",
    "\n",
    "        # Close the wandb run at the end of the last epoch for each set\n",
    "        wandb.finish()\n",
    "\n",
    "# Your script continues\n"
   ]
  }
 ],
 "metadata": {
  "kernelspec": {
   "display_name": "Python 3",
   "language": "python",
   "name": "python3"
  },
  "language_info": {
   "codemirror_mode": {
    "name": "ipython",
    "version": 3
   },
   "file_extension": ".py",
   "mimetype": "text/x-python",
   "name": "python",
   "nbconvert_exporter": "python",
   "pygments_lexer": "ipython3",
   "version": "3.10.7"
  }
 },
 "nbformat": 4,
 "nbformat_minor": 2
}
