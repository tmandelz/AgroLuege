{
 "cells": [
  {
   "cell_type": "code",
   "execution_count": 1,
   "metadata": {},
   "outputs": [],
   "source": [
    "import geopandas as gpd\n",
    "import pandas as pd\n",
    "import numpy as np\n",
    "from shapely import wkt\n",
    "import matplotlib.pyplot as plt\n",
    "import rasterio\n",
    "from rasterio.features import rasterize\n",
    "import torch\n",
    "import time"
   ]
  },
  {
   "cell_type": "code",
   "execution_count": 2,
   "metadata": {},
   "outputs": [],
   "source": [
    "#TODO: parallelisieren / gdal python binding über cli direct call / 24xhöhe von bbox, nur steps nach rechts und dann splitten? / polygonbasiert \n"
   ]
  },
  {
   "cell_type": "markdown",
   "metadata": {},
   "source": [
    "# Bounding box und Geometrie für Sentinel-Abfrage"
   ]
  },
  {
   "cell_type": "code",
   "execution_count": 3,
   "metadata": {},
   "outputs": [],
   "source": [
    "df_raw = pd.read_csv('bern_landkult.csv')\n",
    "labels = pd.read_csv('../Level_hierarchy.csv', usecols=['level3', 'LNF_code'])\n",
    "labels.columns=['level3', 'LNF_CODE']"
   ]
  },
  {
   "cell_type": "code",
   "execution_count": 4,
   "metadata": {},
   "outputs": [],
   "source": [
    "df_landkult = pd.merge(df_raw, labels, how='left', on='LNF_CODE' )\n",
    "df_landkult = df_landkult.dropna(subset = ['level3'])"
   ]
  },
  {
   "cell_type": "code",
   "execution_count": 5,
   "metadata": {},
   "outputs": [
    {
     "name": "stderr",
     "output_type": "stream",
     "text": [
      "c:\\Users\\Tom\\.virtualenvs\\AgroLuege-VcgfzIc1\\lib\\site-packages\\pyproj\\crs\\crs.py:141: FutureWarning: '+init=<authority>:<code>' syntax is deprecated. '<authority>:<code>' is the preferred initialization method. When making the change, be mindful of axis order changes: https://pyproj4.github.io/pyproj/stable/gotchas.html#axis-order-changes-in-proj-6\n",
      "  in_crs_string = _prepare_from_proj_string(in_crs_string)\n"
     ]
    },
    {
     "data": {
      "text/html": [
       "<div>\n",
       "<style scoped>\n",
       "    .dataframe tbody tr th:only-of-type {\n",
       "        vertical-align: middle;\n",
       "    }\n",
       "\n",
       "    .dataframe tbody tr th {\n",
       "        vertical-align: top;\n",
       "    }\n",
       "\n",
       "    .dataframe thead th {\n",
       "        text-align: right;\n",
       "    }\n",
       "</style>\n",
       "<table border=\"1\" class=\"dataframe\">\n",
       "  <thead>\n",
       "    <tr style=\"text-align: right;\">\n",
       "      <th></th>\n",
       "      <th>Unnamed: 0</th>\n",
       "      <th>IST_DEF</th>\n",
       "      <th>KULTGRUPPE</th>\n",
       "      <th>KULTGRUT_K</th>\n",
       "      <th>KULTGRUT_1</th>\n",
       "      <th>LNF_CODE</th>\n",
       "      <th>KULTURT_KU</th>\n",
       "      <th>KULTURT__1</th>\n",
       "      <th>NHG</th>\n",
       "      <th>NUTZUNG</th>\n",
       "      <th>...</th>\n",
       "      <th>DARSGRUT_D</th>\n",
       "      <th>DARSGRUT_1</th>\n",
       "      <th>GEOID</th>\n",
       "      <th>HAUPTKAT</th>\n",
       "      <th>HAKAT_HK_D</th>\n",
       "      <th>HAKAT_HK_F</th>\n",
       "      <th>Shape_Leng</th>\n",
       "      <th>Shape_Area</th>\n",
       "      <th>geometry</th>\n",
       "      <th>level3</th>\n",
       "    </tr>\n",
       "  </thead>\n",
       "  <tbody>\n",
       "    <tr>\n",
       "      <th>0</th>\n",
       "      <td>0</td>\n",
       "      <td>0</td>\n",
       "      <td>2041</td>\n",
       "      <td>übrige Nutzfläche Wiese</td>\n",
       "      <td>autres prairies</td>\n",
       "      <td>613</td>\n",
       "      <td>Übrige Dauerwiesen (ohne Weiden)</td>\n",
       "      <td>Autres prairies permanentes (sans les pâturages)</td>\n",
       "      <td>0</td>\n",
       "      <td>1</td>\n",
       "      <td>...</td>\n",
       "      <td>keine BFF I</td>\n",
       "      <td>aucune SPB I</td>\n",
       "      <td>766613</td>\n",
       "      <td>1</td>\n",
       "      <td>Dauerwiesen</td>\n",
       "      <td>Prairies permanentes</td>\n",
       "      <td>1114.998396</td>\n",
       "      <td>30892.048265</td>\n",
       "      <td>POLYGON ((399301.942 5185353.379, 399306.541 5...</td>\n",
       "      <td>21.0</td>\n",
       "    </tr>\n",
       "    <tr>\n",
       "      <th>1</th>\n",
       "      <td>1</td>\n",
       "      <td>0</td>\n",
       "      <td>2041</td>\n",
       "      <td>übrige Nutzfläche Wiese</td>\n",
       "      <td>autres prairies</td>\n",
       "      <td>613</td>\n",
       "      <td>Übrige Dauerwiesen (ohne Weiden)</td>\n",
       "      <td>Autres prairies permanentes (sans les pâturages)</td>\n",
       "      <td>0</td>\n",
       "      <td>1</td>\n",
       "      <td>...</td>\n",
       "      <td>keine BFF I</td>\n",
       "      <td>aucune SPB I</td>\n",
       "      <td>309561</td>\n",
       "      <td>1</td>\n",
       "      <td>Dauerwiesen</td>\n",
       "      <td>Prairies permanentes</td>\n",
       "      <td>194.265546</td>\n",
       "      <td>2273.000733</td>\n",
       "      <td>POLYGON ((395533.888 5202486.154, 395519.846 5...</td>\n",
       "      <td>21.0</td>\n",
       "    </tr>\n",
       "    <tr>\n",
       "      <th>2</th>\n",
       "      <td>2</td>\n",
       "      <td>0</td>\n",
       "      <td>2039</td>\n",
       "      <td>übrige Nutzfläche</td>\n",
       "      <td>autres SAU</td>\n",
       "      <td>857</td>\n",
       "      <td>Hecken-, Feld- und Ufergehölze (mit Pufferstre...</td>\n",
       "      <td>Haies, bosquets champêtres et berges boisées (...</td>\n",
       "      <td>0</td>\n",
       "      <td>1</td>\n",
       "      <td>...</td>\n",
       "      <td>keine BFF I</td>\n",
       "      <td>aucune SPB I</td>\n",
       "      <td>301706</td>\n",
       "      <td>8</td>\n",
       "      <td>Hecken-, Feld- und Ufergehölze</td>\n",
       "      <td>Haies, bosquets et berges boisées</td>\n",
       "      <td>204.997401</td>\n",
       "      <td>883.631964</td>\n",
       "      <td>POLYGON ((377044.226 5236483.316, 377041.905 5...</td>\n",
       "      <td>14.0</td>\n",
       "    </tr>\n",
       "    <tr>\n",
       "      <th>3</th>\n",
       "      <td>3</td>\n",
       "      <td>0</td>\n",
       "      <td>2048</td>\n",
       "      <td>Grünland</td>\n",
       "      <td>prairie</td>\n",
       "      <td>601</td>\n",
       "      <td>Kunstwiesen (ohne Weiden)</td>\n",
       "      <td>Prairies artificielles (sans les pâturages)</td>\n",
       "      <td>0</td>\n",
       "      <td>1</td>\n",
       "      <td>...</td>\n",
       "      <td>keine BFF I</td>\n",
       "      <td>aucune SPB I</td>\n",
       "      <td>969184</td>\n",
       "      <td>0</td>\n",
       "      <td>Ackerfläche</td>\n",
       "      <td>Terres cultivées</td>\n",
       "      <td>387.805081</td>\n",
       "      <td>6898.488772</td>\n",
       "      <td>POLYGON ((390521.806 5184008.833, 390520.286 5...</td>\n",
       "      <td>21.0</td>\n",
       "    </tr>\n",
       "    <tr>\n",
       "      <th>4</th>\n",
       "      <td>4</td>\n",
       "      <td>0</td>\n",
       "      <td>2048</td>\n",
       "      <td>Grünland</td>\n",
       "      <td>prairie</td>\n",
       "      <td>601</td>\n",
       "      <td>Kunstwiesen (ohne Weiden)</td>\n",
       "      <td>Prairies artificielles (sans les pâturages)</td>\n",
       "      <td>0</td>\n",
       "      <td>1</td>\n",
       "      <td>...</td>\n",
       "      <td>keine BFF I</td>\n",
       "      <td>aucune SPB I</td>\n",
       "      <td>950199</td>\n",
       "      <td>0</td>\n",
       "      <td>Ackerfläche</td>\n",
       "      <td>Terres cultivées</td>\n",
       "      <td>213.983203</td>\n",
       "      <td>1756.279697</td>\n",
       "      <td>POLYGON ((408013.194 5220252.410, 408013.565 5...</td>\n",
       "      <td>21.0</td>\n",
       "    </tr>\n",
       "  </tbody>\n",
       "</table>\n",
       "<p>5 rows × 27 columns</p>\n",
       "</div>"
      ],
      "text/plain": [
       "   Unnamed: 0  IST_DEF  KULTGRUPPE               KULTGRUT_K       KULTGRUT_1  \\\n",
       "0           0        0        2041  übrige Nutzfläche Wiese  autres prairies   \n",
       "1           1        0        2041  übrige Nutzfläche Wiese  autres prairies   \n",
       "2           2        0        2039        übrige Nutzfläche       autres SAU   \n",
       "3           3        0        2048                 Grünland          prairie   \n",
       "4           4        0        2048                 Grünland          prairie   \n",
       "\n",
       "   LNF_CODE                                         KULTURT_KU  \\\n",
       "0       613                   Übrige Dauerwiesen (ohne Weiden)   \n",
       "1       613                   Übrige Dauerwiesen (ohne Weiden)   \n",
       "2       857  Hecken-, Feld- und Ufergehölze (mit Pufferstre...   \n",
       "3       601                          Kunstwiesen (ohne Weiden)   \n",
       "4       601                          Kunstwiesen (ohne Weiden)   \n",
       "\n",
       "                                          KULTURT__1  NHG  NUTZUNG  ...  \\\n",
       "0   Autres prairies permanentes (sans les pâturages)    0        1  ...   \n",
       "1   Autres prairies permanentes (sans les pâturages)    0        1  ...   \n",
       "2  Haies, bosquets champêtres et berges boisées (...    0        1  ...   \n",
       "3        Prairies artificielles (sans les pâturages)    0        1  ...   \n",
       "4        Prairies artificielles (sans les pâturages)    0        1  ...   \n",
       "\n",
       "    DARSGRUT_D    DARSGRUT_1   GEOID  HAUPTKAT  \\\n",
       "0  keine BFF I  aucune SPB I  766613         1   \n",
       "1  keine BFF I  aucune SPB I  309561         1   \n",
       "2  keine BFF I  aucune SPB I  301706         8   \n",
       "3  keine BFF I  aucune SPB I  969184         0   \n",
       "4  keine BFF I  aucune SPB I  950199         0   \n",
       "\n",
       "                       HAKAT_HK_D                         HAKAT_HK_F  \\\n",
       "0                     Dauerwiesen               Prairies permanentes   \n",
       "1                     Dauerwiesen               Prairies permanentes   \n",
       "2  Hecken-, Feld- und Ufergehölze  Haies, bosquets et berges boisées   \n",
       "3                     Ackerfläche                   Terres cultivées   \n",
       "4                     Ackerfläche                   Terres cultivées   \n",
       "\n",
       "    Shape_Leng    Shape_Area  \\\n",
       "0  1114.998396  30892.048265   \n",
       "1   194.265546   2273.000733   \n",
       "2   204.997401    883.631964   \n",
       "3   387.805081   6898.488772   \n",
       "4   213.983203   1756.279697   \n",
       "\n",
       "                                            geometry  level3  \n",
       "0  POLYGON ((399301.942 5185353.379, 399306.541 5...    21.0  \n",
       "1  POLYGON ((395533.888 5202486.154, 395519.846 5...    21.0  \n",
       "2  POLYGON ((377044.226 5236483.316, 377041.905 5...    14.0  \n",
       "3  POLYGON ((390521.806 5184008.833, 390520.286 5...    21.0  \n",
       "4  POLYGON ((408013.194 5220252.410, 408013.565 5...    21.0  \n",
       "\n",
       "[5 rows x 27 columns]"
      ]
     },
     "execution_count": 5,
     "metadata": {},
     "output_type": "execute_result"
    }
   ],
   "source": [
    "df_landkult['geometry'] = df_landkult['geometry'].apply(wkt.loads)\n",
    "crs = {'init': 'epsg:2056'}\n",
    "gdf = gpd.GeoDataFrame(df_landkult, crs=crs, geometry='geometry')\n",
    "gdf_32632 = gdf.to_crs(32632)\n",
    "gdf_32632.head()"
   ]
  },
  {
   "cell_type": "code",
   "execution_count": 6,
   "metadata": {},
   "outputs": [],
   "source": [
    "#gdf_32632.plot()"
   ]
  },
  {
   "cell_type": "code",
   "execution_count": 7,
   "metadata": {},
   "outputs": [],
   "source": [
    "# from sentinelhub import (\n",
    "#     CRS,\n",
    "#     BBox,\n",
    "#     bbox_to_dimensions\n",
    "# )"
   ]
  },
  {
   "cell_type": "markdown",
   "metadata": {},
   "source": [
    "Sentinel stellt Funktionen bereit, die mithilfe des Parameters \"resolution\" die Pixelgrösse angibt. Damit können wir einen durch 240 pixel (=2.4km) teilbaren Ausschnitt wählen, den wir jeweils mit einem request bei Sentinel abfragen können.\n",
    "Wir werden ein Mosaik aus 23 x 41 Elementen haben für den Kanton Bern."
   ]
  },
  {
   "cell_type": "code",
   "execution_count": null,
   "metadata": {},
   "outputs": [],
   "source": [
    "x_start = 361630.\n",
    "y_start = 5140066.\n",
    "x_end = x_start + 23*2400\n",
    "y_end = y_start + 41*2400\n",
    "bbox_to_dimensions(BBox(bbox=(x_start, y_start, x_end, y_end), crs=32632), resolution=10)"
   ]
  },
  {
   "cell_type": "code",
   "execution_count": null,
   "metadata": {},
   "outputs": [],
   "source": [
    "area_box = []\n",
    "x_start = 361630.\n",
    "y_start = 5140066.\n",
    "step= 240\n",
    "x_end = x_start + 230*step\n",
    "y_end = y_start + 410*step\n",
    "x_coordinate = list(np.arange(x_start, x_end, step))\n",
    "y_coordinate = list(np.arange(y_start, y_end, step))\n",
    "for i in range(len(x_coordinate)):\n",
    "    for j in range(len(y_coordinate)):\n",
    "        area = gdf_32632.cx[x_coordinate[i]:x_coordinate[i]+240, y_coordinate[j]:y_coordinate[j]+240].Shape_Area.sum()/10000\n",
    "        box_entry = {'x1': x_coordinate[i], 'y1': y_coordinate[j],'x2': x_coordinate[i]+240,'y2': y_coordinate[j]+240, 'area': area}\n",
    "        area_box.append(box_entry)\n",
    "area_boxes = pd.DataFrame(area_box)"
   ]
  },
  {
   "cell_type": "code",
   "execution_count": null,
   "metadata": {},
   "outputs": [],
   "source": [
    "plt.scatter(x='x1', y='y1', s='area', data=area_boxes, alpha=0.5, c='g')"
   ]
  },
  {
   "cell_type": "code",
   "execution_count": null,
   "metadata": {},
   "outputs": [],
   "source": [
    "area_boxes.replace(0, np.nan, inplace=True)\n",
    "print(area_boxes.area.isna().sum())"
   ]
  },
  {
   "cell_type": "code",
   "execution_count": null,
   "metadata": {},
   "outputs": [],
   "source": [
    "bboxes = area_boxes.copy()\n",
    "bboxes = bboxes.dropna(subset = ['area'])\n",
    "bboxes.to_csv('../raw_data/BernCrop/bboxes_sentinel_240x240.csv')\n",
    "bboxes = bboxes.drop(columns=['x2', 'y2', 'area'])"
   ]
  },
  {
   "cell_type": "markdown",
   "metadata": {},
   "source": [
    "### Bounding-Box für ETH"
   ]
  },
  {
   "cell_type": "code",
   "execution_count": null,
   "metadata": {},
   "outputs": [],
   "source": [
    "x_start,x_end, y_start, y_end"
   ]
  },
  {
   "cell_type": "code",
   "execution_count": null,
   "metadata": {},
   "outputs": [],
   "source": [
    "gdf_32632.cx[x_start:x_end, y_start: y_end].plot()"
   ]
  },
  {
   "cell_type": "markdown",
   "metadata": {},
   "source": [
    "# Rasterize GIS-Data\n",
    "## Label-Ebene\n",
    "Die Polygonzüge der einzelnen Landwirtschaftsfelder haben jeweils ein LNF_Code hinterlegt. In einem ersten Schritt wird jedem Polygonzug das Label der 3. Hierarchie (3level) hinterlegt. Die Originaldaten des Kanton Bern werden in das erforderliche Koordinatensystem WGS 84 / UTM zone 32N umgewandelt.\n",
    "In einem zweiten Schritt werden die Polygon-Label auf Rasterebene umgewandelt, so dass jedes Pixel (10 x 10m) ein Label hat. Das Ergebnis ist eine Liste von numpy-arrays, bei dem jeder array die 2.4 x 2.4km der Sentinel-Abfrage darstellt."
   ]
  },
  {
   "cell_type": "code",
   "execution_count": 8,
   "metadata": {},
   "outputs": [],
   "source": [
    "gdf_pair = gdf_32632[['geometry', 'level3']]"
   ]
  },
  {
   "cell_type": "code",
   "execution_count": 9,
   "metadata": {},
   "outputs": [],
   "source": [
    "test_gdf = gdf_pair.itertuples(index=False, name=None)\n",
    "test_gdf = list(test_gdf)\n"
   ]
  },
  {
   "cell_type": "code",
   "execution_count": 10,
   "metadata": {},
   "outputs": [],
   "source": [
    "bboxes = pd.read_csv(r'..\\raw_data\\BernCrop\\bboxes_sentinel_24x24.csv',index_col=[0])"
   ]
  },
  {
   "cell_type": "code",
   "execution_count": 11,
   "metadata": {},
   "outputs": [
    {
     "data": {
      "image/png": "[encoded data removed]",
      "text/plain": [
       "<Figure size 640x480 with 1 Axes>"
      ]
     },
     "metadata": {},
     "output_type": "display_data"
    }
   ],
   "source": [
    "import geopandas as gpd\n",
    "from shapely.geometry import Polygon\n",
    "\n",
    "# Assuming your data is in a CSV file named 'polygons_data.csv'\n",
    "data = bboxes[bboxes.index.isin([10,409,410])]\n",
    "\n",
    "# Create a GeoDataFrame\n",
    "geometry = [Polygon([(row['x1'], row['y1']), (row['x2'], row['y1']),\n",
    "                     (row['x2'], row['y2']), (row['x1'], row['y2'])]) for _, row in data.iterrows()]\n",
    "\n",
    "gdf = gpd.GeoDataFrame(data, geometry=geometry)\n",
    "\n",
    "# Plot the GeoDataFrame\n",
    "gdf.plot(edgecolor='blue', facecolor='green', alpha=0.4)\n",
    "plt.title('Polygons Plot on Map')\n",
    "plt.xlabel('X-axis')\n",
    "plt.ylabel('Y-axis')\n",
    "plt.show()\n"
   ]
  },
  {
   "cell_type": "code",
   "execution_count": 12,
   "metadata": {},
   "outputs": [],
   "source": [
    "import time\n",
    "import rasterio\n",
    "from rasterio.features import rasterize\n",
    "\n",
    "def raster(coord, geo_df, field_df):\n",
    "    \"\"\"\n",
    "    coord: DataFrame with x and y coordinates of bounding_boxes\n",
    "    geo_df: list of tuple with geometry (Polygon) and value pair\n",
    "    \"\"\"\n",
    "    # result_list_pixel = []\n",
    "    # result_list_field = []\n",
    "    \n",
    "    with rasterio.Env():\n",
    "        # for i, row in coord.iterrows():\n",
    "        x_coord, y_coord = coord['x1'].min(), coord['y1'].min()\n",
    "        start_time = time.time()\n",
    "        # result = rasterize(geo_df, out_shape=(24, 24*410), transform=(10, 0, x_coord, 0, -10, y_coord, 0, 0, 1))\n",
    "        result_pixel = rasterize(geo_df, out_shape=(24, 24*410), transform=(10, 0, x_coord, 0, -10, y_coord, 0, 0, 1))\n",
    "        result_field = rasterize(field_df, out_shape=(24, 24*410), transform=(10, 0, x_coord, 0, -10, y_coord, 0, 0, 1))\n",
    "        print(f\"End Time: {time.time() - start_time}\")\n",
    "    \n",
    "    return result_pixel,result_field\n",
    "\n"
   ]
  },
  {
   "cell_type": "markdown",
   "metadata": {},
   "source": [
    "## Feld-Ebene"
   ]
  },
  {
   "cell_type": "code",
   "execution_count": 13,
   "metadata": {},
   "outputs": [],
   "source": [
    "gdf_pair_field = gdf_32632[['geometry', 'Unnamed: 0', 'level3']]"
   ]
  },
  {
   "cell_type": "code",
   "execution_count": 14,
   "metadata": {},
   "outputs": [],
   "source": [
    "gdf_pair_field.columns=['geometry', 'gt_instance', 'level3']\n"
   ]
  },
  {
   "cell_type": "code",
   "execution_count": 15,
   "metadata": {},
   "outputs": [
    {
     "name": "stderr",
     "output_type": "stream",
     "text": [
      "c:\\Users\\Tom\\.virtualenvs\\AgroLuege-VcgfzIc1\\lib\\site-packages\\geopandas\\geodataframe.py:1543: SettingWithCopyWarning: \n",
      "A value is trying to be set on a copy of a slice from a DataFrame.\n",
      "Try using .loc[row_indexer,col_indexer] = value instead\n",
      "\n",
      "See the caveats in the documentation: https://pandas.pydata.org/pandas-docs/stable/user_guide/indexing.html#returning-a-view-versus-a-copy\n",
      "  super().__setitem__(key, value)\n"
     ]
    },
    {
     "data": {
      "text/html": [
       "<div>\n",
       "<style scoped>\n",
       "    .dataframe tbody tr th:only-of-type {\n",
       "        vertical-align: middle;\n",
       "    }\n",
       "\n",
       "    .dataframe tbody tr th {\n",
       "        vertical-align: top;\n",
       "    }\n",
       "\n",
       "    .dataframe thead th {\n",
       "        text-align: right;\n",
       "    }\n",
       "</style>\n",
       "<table border=\"1\" class=\"dataframe\">\n",
       "  <thead>\n",
       "    <tr style=\"text-align: right;\">\n",
       "      <th></th>\n",
       "      <th>geometry</th>\n",
       "      <th>gt_instance</th>\n",
       "      <th>level3</th>\n",
       "    </tr>\n",
       "  </thead>\n",
       "  <tbody>\n",
       "    <tr>\n",
       "      <th>0</th>\n",
       "      <td>POLYGON ((399301.942 5185353.379, 399306.541 5...</td>\n",
       "      <td>1000000</td>\n",
       "      <td>21.0</td>\n",
       "    </tr>\n",
       "    <tr>\n",
       "      <th>1</th>\n",
       "      <td>POLYGON ((395533.888 5202486.154, 395519.846 5...</td>\n",
       "      <td>1000001</td>\n",
       "      <td>21.0</td>\n",
       "    </tr>\n",
       "    <tr>\n",
       "      <th>2</th>\n",
       "      <td>POLYGON ((377044.226 5236483.316, 377041.905 5...</td>\n",
       "      <td>1000002</td>\n",
       "      <td>14.0</td>\n",
       "    </tr>\n",
       "    <tr>\n",
       "      <th>3</th>\n",
       "      <td>POLYGON ((390521.806 5184008.833, 390520.286 5...</td>\n",
       "      <td>1000003</td>\n",
       "      <td>21.0</td>\n",
       "    </tr>\n",
       "    <tr>\n",
       "      <th>4</th>\n",
       "      <td>POLYGON ((408013.194 5220252.410, 408013.565 5...</td>\n",
       "      <td>1000004</td>\n",
       "      <td>21.0</td>\n",
       "    </tr>\n",
       "  </tbody>\n",
       "</table>\n",
       "</div>"
      ],
      "text/plain": [
       "                                            geometry  gt_instance  level3\n",
       "0  POLYGON ((399301.942 5185353.379, 399306.541 5...      1000000    21.0\n",
       "1  POLYGON ((395533.888 5202486.154, 395519.846 5...      1000001    21.0\n",
       "2  POLYGON ((377044.226 5236483.316, 377041.905 5...      1000002    14.0\n",
       "3  POLYGON ((390521.806 5184008.833, 390520.286 5...      1000003    21.0\n",
       "4  POLYGON ((408013.194 5220252.410, 408013.565 5...      1000004    21.0"
      ]
     },
     "execution_count": 15,
     "metadata": {},
     "output_type": "execute_result"
    }
   ],
   "source": [
    "gdf_pair_field['gt_instance'] = gdf_pair_field['gt_instance']+1000000\n",
    "gdf_pair_field.head()"
   ]
  },
  {
   "cell_type": "markdown",
   "metadata": {},
   "source": [
    "Falls wir die Zuordnung Feld - Label nochmals brauchen, exportieren wir dieses als csv. Dies gäbe uns die Möglichkeit, ein stratified Fold zu machen."
   ]
  },
  {
   "cell_type": "code",
   "execution_count": 16,
   "metadata": {},
   "outputs": [],
   "source": [
    "gdf_pair_field.drop('geometry',axis=1).to_csv(r'gt_instance-level3.csv') "
   ]
  },
  {
   "cell_type": "code",
   "execution_count": 17,
   "metadata": {},
   "outputs": [],
   "source": [
    "gdf_pair_field = gdf_pair_field.drop('level3', axis=1)"
   ]
  },
  {
   "cell_type": "code",
   "execution_count": 18,
   "metadata": {},
   "outputs": [],
   "source": [
    "pair_gdf = gdf_pair_field.itertuples(index=False, name=None)\n",
    "pair_gdf = list(pair_gdf)"
   ]
  },
  {
   "cell_type": "code",
   "execution_count": 19,
   "metadata": {},
   "outputs": [
    {
     "name": "stdout",
     "output_type": "stream",
     "text": [
      "End Time: 46.027955293655396\n",
      "End Time: 46.218514919281006\n",
      "End Time: 44.32979941368103\n",
      "End Time: 44.73863506317139\n",
      "End Time: 47.534414768218994\n",
      "End Time: 46.0167818069458\n",
      "End Time: 46.24760603904724\n",
      "End Time: 46.16606688499451\n",
      "End Time: 46.21455764770508\n",
      "End Time: 45.09385704994202\n",
      "End Time: 48.43558478355408\n",
      "End Time: 54.433048486709595\n",
      "End Time: 56.87207055091858\n",
      "End Time: 47.09991383552551\n",
      "End Time: 47.89213037490845\n",
      "End Time: 47.088465213775635\n",
      "End Time: 46.786316871643066\n",
      "End Time: 47.145737648010254\n",
      "End Time: 45.561893701553345\n",
      "End Time: 45.60400056838989\n",
      "End Time: 46.085999727249146\n",
      "End Time: 45.80300045013428\n",
      "End Time: 45.74299955368042\n",
      "End Time: 46.196035861968994\n",
      "End Time: 45.70605444908142\n",
      "End Time: 46.25900650024414\n",
      "End Time: 45.97800254821777\n",
      "End Time: 45.797014236450195\n",
      "End Time: 46.01801586151123\n",
      "End Time: 45.47800254821777\n",
      "End Time: 46.37324571609497\n",
      "End Time: 45.916921615600586\n",
      "End Time: 45.509615421295166\n",
      "End Time: 46.07012152671814\n",
      "End Time: 45.63499999046326\n",
      "End Time: 46.70409965515137\n",
      "End Time: 46.27060508728027\n",
      "End Time: 44.90699911117554\n",
      "End Time: 44.655999183654785\n",
      "End Time: 44.2019989490509\n",
      "End Time: 44.24104714393616\n",
      "End Time: 46.11045694351196\n",
      "End Time: 45.7668240070343\n",
      "End Time: 46.411123752593994\n",
      "End Time: 45.08504557609558\n",
      "End Time: 46.23585534095764\n",
      "End Time: 46.17426943778992\n",
      "End Time: 45.982900857925415\n",
      "End Time: 46.07903456687927\n",
      "End Time: 47.159080266952515\n",
      "End Time: 46.26096487045288\n",
      "End Time: 47.5087730884552\n",
      "End Time: 46.70520901679993\n",
      "End Time: 46.444780349731445\n",
      "End Time: 46.31005787849426\n",
      "End Time: 46.06079840660095\n",
      "End Time: 48.61344575881958\n",
      "End Time: 49.14603114128113\n",
      "End Time: 47.37865662574768\n",
      "End Time: 46.86883783340454\n",
      "End Time: 47.494110345840454\n",
      "End Time: 47.19322681427002\n",
      "End Time: 47.95463514328003\n",
      "End Time: 46.650205850601196\n",
      "End Time: 47.17721605300903\n",
      "End Time: 45.80401301383972\n",
      "End Time: 46.2927668094635\n",
      "End Time: 46.11107015609741\n",
      "End Time: 45.68372583389282\n",
      "End Time: 45.80557370185852\n",
      "End Time: 46.44181036949158\n",
      "End Time: 46.57921385765076\n",
      "End Time: 46.02289319038391\n",
      "End Time: 47.16298580169678\n",
      "End Time: 46.29161238670349\n",
      "End Time: 47.352826833724976\n",
      "End Time: 46.601746559143066\n",
      "End Time: 46.36549425125122\n",
      "End Time: 46.983054637908936\n",
      "End Time: 46.37677597999573\n",
      "End Time: 46.34094595909119\n",
      "End Time: 46.22207450866699\n",
      "End Time: 45.872600078582764\n",
      "End Time: 46.102227210998535\n",
      "End Time: 46.123085021972656\n",
      "End Time: 45.097050189971924\n",
      "End Time: 45.40369391441345\n",
      "End Time: 44.73823094367981\n",
      "End Time: 44.902050495147705\n",
      "End Time: 45.24282670021057\n",
      "End Time: 45.95200228691101\n",
      "End Time: 46.30102562904358\n",
      "End Time: 46.24060940742493\n",
      "End Time: 48.17341423034668\n",
      "End Time: 46.0630087852478\n",
      "End Time: 45.3209969997406\n",
      "End Time: 45.87401056289673\n",
      "End Time: 47.750874519348145\n",
      "End Time: 46.84052300453186\n",
      "End Time: 45.68001341819763\n",
      "End Time: 45.19799852371216\n",
      "End Time: 45.06399965286255\n",
      "End Time: 45.37461829185486\n",
      "End Time: 45.66100025177002\n",
      "End Time: 45.575000286102295\n",
      "End Time: 47.04926657676697\n",
      "End Time: 45.98699998855591\n",
      "End Time: 45.924999475479126\n",
      "End Time: 45.08199977874756\n",
      "End Time: 45.5159969329834\n",
      "End Time: 44.87499928474426\n",
      "End Time: 45.28004550933838\n",
      "End Time: 45.416560649871826\n",
      "End Time: 44.97800374031067\n",
      "End Time: 45.417226791381836\n",
      "End Time: 45.161789894104004\n",
      "End Time: 45.42392826080322\n",
      "End Time: 45.41204333305359\n",
      "End Time: 44.84101390838623\n",
      "End Time: 48.415260553359985\n",
      "End Time: 47.00528645515442\n",
      "End Time: 46.503010988235474\n",
      "End Time: 48.409244775772095\n",
      "End Time: 48.237977266311646\n",
      "End Time: 47.396912574768066\n",
      "End Time: 46.364018201828\n",
      "End Time: 46.79348134994507\n",
      "End Time: 45.66743516921997\n",
      "End Time: 46.230443239212036\n",
      "End Time: 45.48200082778931\n",
      "End Time: 45.45499658584595\n",
      "End Time: 45.21582555770874\n",
      "End Time: 45.181832790374756\n",
      "End Time: 45.809751987457275\n",
      "End Time: 46.114625692367554\n",
      "End Time: 45.298014402389526\n",
      "End Time: 45.5846529006958\n",
      "End Time: 45.60797619819641\n",
      "End Time: 45.34399962425232\n",
      "End Time: 46.49423575401306\n",
      "End Time: 45.63452935218811\n",
      "End Time: 46.42800188064575\n",
      "End Time: 45.42430901527405\n",
      "End Time: 46.05399751663208\n",
      "End Time: 45.83889889717102\n",
      "End Time: 45.48505616188049\n",
      "End Time: 45.182997703552246\n",
      "End Time: 45.68971920013428\n",
      "End Time: 45.75160551071167\n",
      "End Time: 44.77369713783264\n",
      "End Time: 45.35000038146973\n",
      "End Time: 44.83500099182129\n",
      "End Time: 45.48309516906738\n",
      "End Time: 44.8270001411438\n",
      "End Time: 46.01893186569214\n",
      "End Time: 46.95414066314697\n",
      "End Time: 46.18362069129944\n",
      "End Time: 46.50762438774109\n",
      "End Time: 47.19144010543823\n",
      "End Time: 45.68200993537903\n",
      "End Time: 46.37009406089783\n",
      "End Time: 45.557002782821655\n",
      "End Time: 45.91201043128967\n",
      "End Time: 47.1055052280426\n",
      "End Time: 47.61957764625549\n",
      "End Time: 46.756651401519775\n",
      "End Time: 46.10558748245239\n",
      "End Time: 47.39408206939697\n",
      "End Time: 46.67162346839905\n",
      "End Time: 46.09200477600098\n",
      "End Time: 45.9700882434845\n",
      "End Time: 47.11587166786194\n",
      "End Time: 46.149253129959106\n",
      "End Time: 46.574058294296265\n",
      "End Time: 46.14910840988159\n",
      "End Time: 46.074690103530884\n",
      "End Time: 46.58342671394348\n",
      "End Time: 47.238712549209595\n",
      "End Time: 46.92676544189453\n",
      "End Time: 46.79894757270813\n",
      "End Time: 47.0166699886322\n",
      "End Time: 47.475489139556885\n",
      "End Time: 48.614367961883545\n",
      "End Time: 48.692546129226685\n",
      "End Time: 48.306310415267944\n",
      "End Time: 46.12951683998108\n",
      "End Time: 46.13195013999939\n",
      "End Time: 46.48251008987427\n",
      "End Time: 45.94977140426636\n",
      "End Time: 45.84749364852905\n",
      "End Time: 46.29846143722534\n",
      "End Time: 46.266167640686035\n",
      "End Time: 46.77951383590698\n",
      "End Time: 46.15255403518677\n",
      "End Time: 46.19028949737549\n",
      "End Time: 46.775030851364136\n",
      "End Time: 45.76899433135986\n",
      "End Time: 45.73827338218689\n",
      "End Time: 46.43589377403259\n",
      "End Time: 46.1921968460083\n",
      "End Time: 46.6110463142395\n",
      "End Time: 45.89999961853027\n",
      "End Time: 45.82964897155762\n",
      "End Time: 47.0003137588501\n",
      "End Time: 45.72896671295166\n",
      "End Time: 46.01412916183472\n",
      "End Time: 46.901270627975464\n",
      "End Time: 46.68032932281494\n",
      "End Time: 46.46406388282776\n",
      "End Time: 45.916043519973755\n",
      "End Time: 46.40456795692444\n",
      "End Time: 46.26811957359314\n",
      "End Time: 46.31791710853577\n",
      "End Time: 46.80499792098999\n",
      "End Time: 45.93201231956482\n",
      "End Time: 45.84600257873535\n",
      "End Time: 46.24898171424866\n",
      "End Time: 45.830904722213745\n",
      "End Time: 46.35539245605469\n",
      "End Time: 46.2095205783844\n",
      "End Time: 47.003724575042725\n",
      "End Time: 47.25066781044006\n",
      "End Time: 46.03764986991882\n",
      "End Time: 46.884042501449585\n",
      "End Time: 46.85805368423462\n",
      "End Time: 45.70408654212952\n",
      "End Time: 46.240062952041626\n",
      "End Time: 46.31500458717346\n",
      "End Time: 45.509929180145264\n",
      "End Time: 46.283010721206665\n"
     ]
    }
   ],
   "source": [
    "# loop over slices\n",
    "result_pixel_list = []\n",
    "result_field_list = []\n",
    "\n",
    "for slice in range(0, 230):\n",
    "    start_index = slice * 410\n",
    "    end_index = (slice + 1) * 410\n",
    "    indexes = [i for i in range(start_index, end_index)]\n",
    "    # print(indexes)\n",
    "    bboxes_slice = bboxes[bboxes.index.isin(indexes)]\n",
    "    result_pixel,result_field = raster(bboxes_slice, test_gdf,pair_gdf)\n",
    "    result_pixel_list.append(result_pixel.reshape(-1,24,24))\n",
    "    result_field_list.append(result_field.reshape(-1,24,24))\n",
    "    \n"
   ]
  },
  {
   "cell_type": "code",
   "execution_count": 20,
   "metadata": {},
   "outputs": [
    {
     "data": {
      "text/plain": [
       "(230, 410, 24, 24)"
      ]
     },
     "execution_count": 20,
     "metadata": {},
     "output_type": "execute_result"
    }
   ],
   "source": [
    "np.array(result_pixel_list).shape"
   ]
  },
  {
   "cell_type": "code",
   "execution_count": 21,
   "metadata": {},
   "outputs": [
    {
     "data": {
      "text/plain": [
       "(230, 410, 24, 24)"
      ]
     },
     "execution_count": 21,
     "metadata": {},
     "output_type": "execute_result"
    }
   ],
   "source": [
    "np.array(result_field_list).shape"
   ]
  },
  {
   "cell_type": "code",
   "execution_count": null,
   "metadata": {},
   "outputs": [],
   "source": [
    "np.unique(result_pixel_list[0])"
   ]
  },
  {
   "cell_type": "code",
   "execution_count": 22,
   "metadata": {},
   "outputs": [
    {
     "data": {
      "image/png": "[encoded data removed]",
      "text/plain": [
       "<Figure size 640x480 with 1 Axes>"
      ]
     },
     "metadata": {},
     "output_type": "display_data"
    },
    {
     "data": {
      "image/png": "[encoded data removed]",
      "text/plain": [
       "<Figure size 640x480 with 1 Axes>"
      ]
     },
     "metadata": {},
     "output_type": "display_data"
    }
   ],
   "source": [
    "plt.imshow(result_field_list[1][3])\n",
    "plt.show()\n",
    "plt.imshow(result_pixel_list[1][3])\n",
    "plt.show()"
   ]
  },
  {
   "cell_type": "code",
   "execution_count": 23,
   "metadata": {},
   "outputs": [],
   "source": [
    "result_pixel_list = np.array(result_pixel_list).reshape(-1,24,24)\n",
    "result_field_list = np.array(result_field_list).reshape(-1,24,24)"
   ]
  },
  {
   "cell_type": "code",
   "execution_count": 24,
   "metadata": {},
   "outputs": [],
   "source": [
    "result_field_list = result_field_list.astype(int)"
   ]
  },
  {
   "cell_type": "code",
   "execution_count": 25,
   "metadata": {},
   "outputs": [
    {
     "data": {
      "text/plain": [
       "array([[[      0,       0,       0, ...,       0,       0,       0],\n",
       "        [      0,       0,       0, ..., 1161663, 1161663, 1161663],\n",
       "        [1161663, 1161663, 1161663, ..., 1153685, 1153685, 1153685],\n",
       "        ...,\n",
       "        [      0,       0,       0, ..., 1232548, 1232548, 1232548],\n",
       "        [1115244, 1115244, 1115244, ...,       0,       0,       0],\n",
       "        [      0,       0,       0, ..., 1071967, 1071967, 1198394]],\n",
       "\n",
       "       [[1198394, 1198394, 1198394, ..., 1146356, 1146356, 1146356],\n",
       "        [1148859, 1148859, 1148859, ..., 1013597, 1013597, 1013597],\n",
       "        [      0,       0,       0, ..., 1142520, 1142520, 1142520],\n",
       "        ...,\n",
       "        [1260878, 1052751, 1052751, ..., 1260030, 1260030, 1260030],\n",
       "        [1260030, 1260030, 1260030, ..., 1267976, 1267976,       0],\n",
       "        [      0,       0,       0, ...,       0,       0,       0]],\n",
       "\n",
       "       [[      0, 1238563, 1238563, ..., 1162135, 1162135, 1162135],\n",
       "        [1162135, 1162135, 1162135, ..., 1266035, 1266035, 1266035],\n",
       "        [1266035, 1266035, 1266035, ..., 1156640, 1156640, 1156640],\n",
       "        ...,\n",
       "        [1163658, 1163658, 1163658, ..., 1163658, 1163658, 1163658],\n",
       "        [1163658, 1163658, 1163658, ..., 1163658, 1163658, 1163658],\n",
       "        [1163658, 1163658, 1163658, ..., 1163658, 1163658, 1163658]],\n",
       "\n",
       "       ...,\n",
       "\n",
       "       [[      0,       0,       0, ...,       0,       0,       0],\n",
       "        [      0,       0,       0, ...,       0,       0,       0],\n",
       "        [      0,       0,       0, ...,       0,       0,       0],\n",
       "        ...,\n",
       "        [      0,       0,       0, ...,       0,       0,       0],\n",
       "        [      0,       0,       0, ...,       0,       0,       0],\n",
       "        [      0,       0,       0, ...,       0,       0,       0]],\n",
       "\n",
       "       [[      0,       0,       0, ...,       0,       0,       0],\n",
       "        [      0,       0,       0, ...,       0,       0,       0],\n",
       "        [      0,       0,       0, ...,       0,       0,       0],\n",
       "        ...,\n",
       "        [      0,       0,       0, ...,       0,       0,       0],\n",
       "        [      0,       0,       0, ...,       0,       0,       0],\n",
       "        [      0,       0,       0, ...,       0,       0,       0]],\n",
       "\n",
       "       [[      0,       0,       0, ...,       0,       0,       0],\n",
       "        [      0,       0,       0, ...,       0,       0,       0],\n",
       "        [      0,       0,       0, ...,       0,       0,       0],\n",
       "        ...,\n",
       "        [      0,       0,       0, ...,       0,       0,       0],\n",
       "        [      0,       0,       0, ...,       0,       0,       0],\n",
       "        [      0,       0,       0, ...,       0,       0,       0]]])"
      ]
     },
     "execution_count": 25,
     "metadata": {},
     "output_type": "execute_result"
    }
   ],
   "source": [
    "result_field_list"
   ]
  },
  {
   "cell_type": "code",
   "execution_count": 26,
   "metadata": {},
   "outputs": [
    {
     "name": "stdout",
     "output_type": "stream",
     "text": [
      "torch.Size([94300, 24, 24])\n",
      "torch.Size([94300, 24, 24])\n"
     ]
    }
   ],
   "source": [
    "tensor_pixel= torch.Tensor(result_pixel_list)\n",
    "print(tensor_pixel.size())\n",
    "tensor_field= torch.Tensor(result_field_list)\n",
    "print(tensor_field.size())"
   ]
  },
  {
   "cell_type": "code",
   "execution_count": 27,
   "metadata": {},
   "outputs": [],
   "source": [
    "torch.save(tensor_pixel, '../raw_data/BernCrop/tensor_label_24x24.pt')\n",
    "torch.save(tensor_field, '../raw_data/BernCrop/tensor_field_24x24.pt')"
   ]
  },
  {
   "cell_type": "code",
   "execution_count": null,
   "metadata": {},
   "outputs": [],
   "source": []
  }
 ],
 "metadata": {
  "kernelspec": {
   "display_name": "AgroLuege-2VDmF-75",
   "language": "python",
   "name": "python3"
  },
  "language_info": {
   "codemirror_mode": {
    "name": "ipython",
    "version": 3
   },
   "file_extension": ".py",
   "mimetype": "text/x-python",
   "name": "python",
   "nbconvert_exporter": "python",
   "pygments_lexer": "ipython3",
   "version": "3.10.5"
  }
 },
 "nbformat": 4,
 "nbformat_minor": 4
}
