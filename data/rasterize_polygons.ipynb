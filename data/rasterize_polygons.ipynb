{
 "cells": [
  {
   "cell_type": "code",
   "execution_count": 1,
   "metadata": {},
   "outputs": [],
   "source": [
    "import geopandas as gpd\n",
    "import pandas as pd\n",
    "import numpy as np\n",
    "from shapely import wkt\n",
    "import matplotlib.pyplot as plt\n",
    "import rasterio\n",
    "from rasterio.features import rasterize\n",
    "import torch\n",
    "import time"
   ]
  },
  {
   "cell_type": "code",
   "execution_count": 2,
   "metadata": {},
   "outputs": [],
   "source": [
    "#TODO: parallelisieren / gdal python binding über cli direct call / 24xhöhe von bbox, nur steps nach rechts und dann splitten? / polygonbasiert \n"
   ]
  },
  {
   "cell_type": "markdown",
   "metadata": {},
   "source": [
    "# Bounding box und Geometrie für Sentinel-Abfrage"
   ]
  },
  {
   "cell_type": "code",
   "execution_count": 3,
   "metadata": {},
   "outputs": [],
   "source": [
    "df_raw = pd.read_csv('bern_landkult.csv')\n",
    "labels = pd.read_csv('../Level_hierarchy.csv', usecols=['level3', 'LNF_code'])\n",
    "labels.columns=['level3', 'LNF_CODE']"
   ]
  },
  {
   "cell_type": "code",
   "execution_count": 4,
   "metadata": {},
   "outputs": [],
   "source": [
    "df_landkult = pd.merge(df_raw, labels, how='left', on='LNF_CODE' )\n",
    "df_landkult = df_landkult.dropna(subset = ['level3'])"
   ]
  },
  {
   "cell_type": "code",
   "execution_count": 5,
   "metadata": {},
   "outputs": [
    {
     "name": "stderr",
     "output_type": "stream",
     "text": [
      "c:\\Users\\tmand\\.virtualenvs\\AgroLuege-2VDmF-75\\lib\\site-packages\\pyproj\\crs\\crs.py:141: FutureWarning: '+init=<authority>:<code>' syntax is deprecated. '<authority>:<code>' is the preferred initialization method. When making the change, be mindful of axis order changes: https://pyproj4.github.io/pyproj/stable/gotchas.html#axis-order-changes-in-proj-6\n",
      "  in_crs_string = _prepare_from_proj_string(in_crs_string)\n"
     ]
    },
    {
     "data": {
      "text/html": [
       "<div>\n",
       "<style scoped>\n",
       "    .dataframe tbody tr th:only-of-type {\n",
       "        vertical-align: middle;\n",
       "    }\n",
       "\n",
       "    .dataframe tbody tr th {\n",
       "        vertical-align: top;\n",
       "    }\n",
       "\n",
       "    .dataframe thead th {\n",
       "        text-align: right;\n",
       "    }\n",
       "</style>\n",
       "<table border=\"1\" class=\"dataframe\">\n",
       "  <thead>\n",
       "    <tr style=\"text-align: right;\">\n",
       "      <th></th>\n",
       "      <th>Unnamed: 0</th>\n",
       "      <th>IST_DEF</th>\n",
       "      <th>KULTGRUPPE</th>\n",
       "      <th>KULTGRUT_K</th>\n",
       "      <th>KULTGRUT_1</th>\n",
       "      <th>LNF_CODE</th>\n",
       "      <th>KULTURT_KU</th>\n",
       "      <th>KULTURT__1</th>\n",
       "      <th>NHG</th>\n",
       "      <th>NUTZUNG</th>\n",
       "      <th>...</th>\n",
       "      <th>DARSGRUT_D</th>\n",
       "      <th>DARSGRUT_1</th>\n",
       "      <th>GEOID</th>\n",
       "      <th>HAUPTKAT</th>\n",
       "      <th>HAKAT_HK_D</th>\n",
       "      <th>HAKAT_HK_F</th>\n",
       "      <th>Shape_Leng</th>\n",
       "      <th>Shape_Area</th>\n",
       "      <th>geometry</th>\n",
       "      <th>level3</th>\n",
       "    </tr>\n",
       "  </thead>\n",
       "  <tbody>\n",
       "    <tr>\n",
       "      <th>0</th>\n",
       "      <td>0</td>\n",
       "      <td>0</td>\n",
       "      <td>2041</td>\n",
       "      <td>übrige Nutzfläche Wiese</td>\n",
       "      <td>autres prairies</td>\n",
       "      <td>613</td>\n",
       "      <td>Übrige Dauerwiesen (ohne Weiden)</td>\n",
       "      <td>Autres prairies permanentes (sans les pâturages)</td>\n",
       "      <td>0</td>\n",
       "      <td>1</td>\n",
       "      <td>...</td>\n",
       "      <td>keine BFF I</td>\n",
       "      <td>aucune SPB I</td>\n",
       "      <td>766613</td>\n",
       "      <td>1</td>\n",
       "      <td>Dauerwiesen</td>\n",
       "      <td>Prairies permanentes</td>\n",
       "      <td>1114.998396</td>\n",
       "      <td>30892.048265</td>\n",
       "      <td>POLYGON ((399301.942 5185353.379, 399306.541 5...</td>\n",
       "      <td>21.0</td>\n",
       "    </tr>\n",
       "    <tr>\n",
       "      <th>1</th>\n",
       "      <td>1</td>\n",
       "      <td>0</td>\n",
       "      <td>2041</td>\n",
       "      <td>übrige Nutzfläche Wiese</td>\n",
       "      <td>autres prairies</td>\n",
       "      <td>613</td>\n",
       "      <td>Übrige Dauerwiesen (ohne Weiden)</td>\n",
       "      <td>Autres prairies permanentes (sans les pâturages)</td>\n",
       "      <td>0</td>\n",
       "      <td>1</td>\n",
       "      <td>...</td>\n",
       "      <td>keine BFF I</td>\n",
       "      <td>aucune SPB I</td>\n",
       "      <td>309561</td>\n",
       "      <td>1</td>\n",
       "      <td>Dauerwiesen</td>\n",
       "      <td>Prairies permanentes</td>\n",
       "      <td>194.265546</td>\n",
       "      <td>2273.000733</td>\n",
       "      <td>POLYGON ((395533.888 5202486.154, 395519.846 5...</td>\n",
       "      <td>21.0</td>\n",
       "    </tr>\n",
       "    <tr>\n",
       "      <th>2</th>\n",
       "      <td>2</td>\n",
       "      <td>0</td>\n",
       "      <td>2039</td>\n",
       "      <td>übrige Nutzfläche</td>\n",
       "      <td>autres SAU</td>\n",
       "      <td>857</td>\n",
       "      <td>Hecken-, Feld- und Ufergehölze (mit Pufferstre...</td>\n",
       "      <td>Haies, bosquets champêtres et berges boisées (...</td>\n",
       "      <td>0</td>\n",
       "      <td>1</td>\n",
       "      <td>...</td>\n",
       "      <td>keine BFF I</td>\n",
       "      <td>aucune SPB I</td>\n",
       "      <td>301706</td>\n",
       "      <td>8</td>\n",
       "      <td>Hecken-, Feld- und Ufergehölze</td>\n",
       "      <td>Haies, bosquets et berges boisées</td>\n",
       "      <td>204.997401</td>\n",
       "      <td>883.631964</td>\n",
       "      <td>POLYGON ((377044.226 5236483.316, 377041.905 5...</td>\n",
       "      <td>14.0</td>\n",
       "    </tr>\n",
       "    <tr>\n",
       "      <th>3</th>\n",
       "      <td>3</td>\n",
       "      <td>0</td>\n",
       "      <td>2048</td>\n",
       "      <td>Grünland</td>\n",
       "      <td>prairie</td>\n",
       "      <td>601</td>\n",
       "      <td>Kunstwiesen (ohne Weiden)</td>\n",
       "      <td>Prairies artificielles (sans les pâturages)</td>\n",
       "      <td>0</td>\n",
       "      <td>1</td>\n",
       "      <td>...</td>\n",
       "      <td>keine BFF I</td>\n",
       "      <td>aucune SPB I</td>\n",
       "      <td>969184</td>\n",
       "      <td>0</td>\n",
       "      <td>Ackerfläche</td>\n",
       "      <td>Terres cultivées</td>\n",
       "      <td>387.805081</td>\n",
       "      <td>6898.488772</td>\n",
       "      <td>POLYGON ((390521.806 5184008.833, 390520.286 5...</td>\n",
       "      <td>21.0</td>\n",
       "    </tr>\n",
       "    <tr>\n",
       "      <th>4</th>\n",
       "      <td>4</td>\n",
       "      <td>0</td>\n",
       "      <td>2048</td>\n",
       "      <td>Grünland</td>\n",
       "      <td>prairie</td>\n",
       "      <td>601</td>\n",
       "      <td>Kunstwiesen (ohne Weiden)</td>\n",
       "      <td>Prairies artificielles (sans les pâturages)</td>\n",
       "      <td>0</td>\n",
       "      <td>1</td>\n",
       "      <td>...</td>\n",
       "      <td>keine BFF I</td>\n",
       "      <td>aucune SPB I</td>\n",
       "      <td>950199</td>\n",
       "      <td>0</td>\n",
       "      <td>Ackerfläche</td>\n",
       "      <td>Terres cultivées</td>\n",
       "      <td>213.983203</td>\n",
       "      <td>1756.279697</td>\n",
       "      <td>POLYGON ((408013.194 5220252.410, 408013.565 5...</td>\n",
       "      <td>21.0</td>\n",
       "    </tr>\n",
       "  </tbody>\n",
       "</table>\n",
       "<p>5 rows × 27 columns</p>\n",
       "</div>"
      ],
      "text/plain": [
       "   Unnamed: 0  IST_DEF  KULTGRUPPE               KULTGRUT_K       KULTGRUT_1  \\\n",
       "0           0        0        2041  übrige Nutzfläche Wiese  autres prairies   \n",
       "1           1        0        2041  übrige Nutzfläche Wiese  autres prairies   \n",
       "2           2        0        2039        übrige Nutzfläche       autres SAU   \n",
       "3           3        0        2048                 Grünland          prairie   \n",
       "4           4        0        2048                 Grünland          prairie   \n",
       "\n",
       "   LNF_CODE                                         KULTURT_KU  \\\n",
       "0       613                   Übrige Dauerwiesen (ohne Weiden)   \n",
       "1       613                   Übrige Dauerwiesen (ohne Weiden)   \n",
       "2       857  Hecken-, Feld- und Ufergehölze (mit Pufferstre...   \n",
       "3       601                          Kunstwiesen (ohne Weiden)   \n",
       "4       601                          Kunstwiesen (ohne Weiden)   \n",
       "\n",
       "                                          KULTURT__1  NHG  NUTZUNG  ...  \\\n",
       "0   Autres prairies permanentes (sans les pâturages)    0        1  ...   \n",
       "1   Autres prairies permanentes (sans les pâturages)    0        1  ...   \n",
       "2  Haies, bosquets champêtres et berges boisées (...    0        1  ...   \n",
       "3        Prairies artificielles (sans les pâturages)    0        1  ...   \n",
       "4        Prairies artificielles (sans les pâturages)    0        1  ...   \n",
       "\n",
       "    DARSGRUT_D    DARSGRUT_1   GEOID  HAUPTKAT  \\\n",
       "0  keine BFF I  aucune SPB I  766613         1   \n",
       "1  keine BFF I  aucune SPB I  309561         1   \n",
       "2  keine BFF I  aucune SPB I  301706         8   \n",
       "3  keine BFF I  aucune SPB I  969184         0   \n",
       "4  keine BFF I  aucune SPB I  950199         0   \n",
       "\n",
       "                       HAKAT_HK_D                         HAKAT_HK_F  \\\n",
       "0                     Dauerwiesen               Prairies permanentes   \n",
       "1                     Dauerwiesen               Prairies permanentes   \n",
       "2  Hecken-, Feld- und Ufergehölze  Haies, bosquets et berges boisées   \n",
       "3                     Ackerfläche                   Terres cultivées   \n",
       "4                     Ackerfläche                   Terres cultivées   \n",
       "\n",
       "    Shape_Leng    Shape_Area  \\\n",
       "0  1114.998396  30892.048265   \n",
       "1   194.265546   2273.000733   \n",
       "2   204.997401    883.631964   \n",
       "3   387.805081   6898.488772   \n",
       "4   213.983203   1756.279697   \n",
       "\n",
       "                                            geometry  level3  \n",
       "0  POLYGON ((399301.942 5185353.379, 399306.541 5...    21.0  \n",
       "1  POLYGON ((395533.888 5202486.154, 395519.846 5...    21.0  \n",
       "2  POLYGON ((377044.226 5236483.316, 377041.905 5...    14.0  \n",
       "3  POLYGON ((390521.806 5184008.833, 390520.286 5...    21.0  \n",
       "4  POLYGON ((408013.194 5220252.410, 408013.565 5...    21.0  \n",
       "\n",
       "[5 rows x 27 columns]"
      ]
     },
     "execution_count": 5,
     "metadata": {},
     "output_type": "execute_result"
    }
   ],
   "source": [
    "df_landkult['geometry'] = df_landkult['geometry'].apply(wkt.loads)\n",
    "crs = {'init': 'epsg:2056'}\n",
    "gdf = gpd.GeoDataFrame(df_landkult, crs=crs, geometry='geometry')\n",
    "gdf_32632 = gdf.to_crs(32632)\n",
    "gdf_32632.head()"
   ]
  },
  {
   "cell_type": "code",
   "execution_count": 6,
   "metadata": {},
   "outputs": [],
   "source": [
    "#gdf_32632.plot()"
   ]
  },
  {
   "cell_type": "code",
   "execution_count": 7,
   "metadata": {},
   "outputs": [],
   "source": [
    "# from sentinelhub import (\n",
    "#     CRS,\n",
    "#     BBox,\n",
    "#     bbox_to_dimensions\n",
    "# )"
   ]
  },
  {
   "cell_type": "markdown",
   "metadata": {},
   "source": [
    "Sentinel stellt Funktionen bereit, die mithilfe des Parameters \"resolution\" die Pixelgrösse angibt. Damit können wir einen durch 240 pixel (=2.4km) teilbaren Ausschnitt wählen, den wir jeweils mit einem request bei Sentinel abfragen können.\n",
    "Wir werden ein Mosaik aus 23 x 41 Elementen haben für den Kanton Bern."
   ]
  },
  {
   "cell_type": "code",
   "execution_count": null,
   "metadata": {},
   "outputs": [],
   "source": [
    "x_start = 361630.\n",
    "y_start = 5140066.\n",
    "x_end = x_start + 23*2400\n",
    "y_end = y_start + 41*2400\n",
    "bbox_to_dimensions(BBox(bbox=(x_start, y_start, x_end, y_end), crs=32632), resolution=10)"
   ]
  },
  {
   "cell_type": "code",
   "execution_count": null,
   "metadata": {},
   "outputs": [],
   "source": [
    "area_box = []\n",
    "x_start = 361630.\n",
    "y_start = 5140066.\n",
    "step= 240\n",
    "x_end = x_start + 230*step\n",
    "y_end = y_start + 410*step\n",
    "x_coordinate = list(np.arange(x_start, x_end, step))\n",
    "y_coordinate = list(np.arange(y_start, y_end, step))\n",
    "for i in range(len(x_coordinate)):\n",
    "    for j in range(len(y_coordinate)):\n",
    "        area = gdf_32632.cx[x_coordinate[i]:x_coordinate[i]+240, y_coordinate[j]:y_coordinate[j]+240].Shape_Area.sum()/10000\n",
    "        box_entry = {'x1': x_coordinate[i], 'y1': y_coordinate[j],'x2': x_coordinate[i]+240,'y2': y_coordinate[j]+240, 'area': area}\n",
    "        area_box.append(box_entry)\n",
    "area_boxes = pd.DataFrame(area_box)"
   ]
  },
  {
   "cell_type": "code",
   "execution_count": null,
   "metadata": {},
   "outputs": [],
   "source": [
    "plt.scatter(x='x1', y='y1', s='area', data=area_boxes, alpha=0.5, c='g')"
   ]
  },
  {
   "cell_type": "code",
   "execution_count": null,
   "metadata": {},
   "outputs": [],
   "source": [
    "area_boxes.replace(0, np.nan, inplace=True)\n",
    "print(area_boxes.area.isna().sum())"
   ]
  },
  {
   "cell_type": "code",
   "execution_count": null,
   "metadata": {},
   "outputs": [],
   "source": [
    "bboxes = area_boxes.copy()\n",
    "bboxes = bboxes.dropna(subset = ['area'])\n",
    "bboxes.to_csv('../raw_data/BernCrop/bboxes_sentinel_240x240.csv')\n",
    "bboxes = bboxes.drop(columns=['x2', 'y2', 'area'])"
   ]
  },
  {
   "cell_type": "code",
   "execution_count": 15,
   "metadata": {},
   "outputs": [],
   "source": [
    "bboxes = pd.read_csv(r'..\\raw_data\\BernCrop\\bboxes_sentinel_24x24.csv',index_col=[0])"
   ]
  },
  {
   "cell_type": "code",
   "execution_count": 16,
   "metadata": {},
   "outputs": [
    {
     "data": {
      "text/html": [
       "<div>\n",
       "<style scoped>\n",
       "    .dataframe tbody tr th:only-of-type {\n",
       "        vertical-align: middle;\n",
       "    }\n",
       "\n",
       "    .dataframe tbody tr th {\n",
       "        vertical-align: top;\n",
       "    }\n",
       "\n",
       "    .dataframe thead th {\n",
       "        text-align: right;\n",
       "    }\n",
       "</style>\n",
       "<table border=\"1\" class=\"dataframe\">\n",
       "  <thead>\n",
       "    <tr style=\"text-align: right;\">\n",
       "      <th></th>\n",
       "      <th>x1</th>\n",
       "      <th>y1</th>\n",
       "      <th>x2</th>\n",
       "      <th>y2</th>\n",
       "      <th>area</th>\n",
       "    </tr>\n",
       "  </thead>\n",
       "  <tbody>\n",
       "    <tr>\n",
       "      <th>10</th>\n",
       "      <td>361630.0</td>\n",
       "      <td>5142466.0</td>\n",
       "      <td>361870.0</td>\n",
       "      <td>5142706.0</td>\n",
       "      <td>206.058478</td>\n",
       "    </tr>\n",
       "    <tr>\n",
       "      <th>11</th>\n",
       "      <td>361630.0</td>\n",
       "      <td>5142706.0</td>\n",
       "      <td>361870.0</td>\n",
       "      <td>5142946.0</td>\n",
       "      <td>206.058478</td>\n",
       "    </tr>\n",
       "    <tr>\n",
       "      <th>12</th>\n",
       "      <td>361630.0</td>\n",
       "      <td>5142946.0</td>\n",
       "      <td>361870.0</td>\n",
       "      <td>5143186.0</td>\n",
       "      <td>206.058478</td>\n",
       "    </tr>\n",
       "    <tr>\n",
       "      <th>13</th>\n",
       "      <td>361630.0</td>\n",
       "      <td>5143186.0</td>\n",
       "      <td>361870.0</td>\n",
       "      <td>5143426.0</td>\n",
       "      <td>206.058478</td>\n",
       "    </tr>\n",
       "    <tr>\n",
       "      <th>14</th>\n",
       "      <td>361630.0</td>\n",
       "      <td>5143426.0</td>\n",
       "      <td>361870.0</td>\n",
       "      <td>5143666.0</td>\n",
       "      <td>206.058478</td>\n",
       "    </tr>\n",
       "    <tr>\n",
       "      <th>...</th>\n",
       "      <td>...</td>\n",
       "      <td>...</td>\n",
       "      <td>...</td>\n",
       "      <td>...</td>\n",
       "      <td>...</td>\n",
       "    </tr>\n",
       "    <tr>\n",
       "      <th>94165</th>\n",
       "      <td>416590.0</td>\n",
       "      <td>5206066.0</td>\n",
       "      <td>416830.0</td>\n",
       "      <td>5206306.0</td>\n",
       "      <td>92.922064</td>\n",
       "    </tr>\n",
       "    <tr>\n",
       "      <th>94166</th>\n",
       "      <td>416590.0</td>\n",
       "      <td>5206306.0</td>\n",
       "      <td>416830.0</td>\n",
       "      <td>5206546.0</td>\n",
       "      <td>27.224741</td>\n",
       "    </tr>\n",
       "    <tr>\n",
       "      <th>94167</th>\n",
       "      <td>416590.0</td>\n",
       "      <td>5206546.0</td>\n",
       "      <td>416830.0</td>\n",
       "      <td>5206786.0</td>\n",
       "      <td>27.224741</td>\n",
       "    </tr>\n",
       "    <tr>\n",
       "      <th>94243</th>\n",
       "      <td>416590.0</td>\n",
       "      <td>5224786.0</td>\n",
       "      <td>416830.0</td>\n",
       "      <td>5225026.0</td>\n",
       "      <td>1.695454</td>\n",
       "    </tr>\n",
       "    <tr>\n",
       "      <th>94244</th>\n",
       "      <td>416590.0</td>\n",
       "      <td>5225026.0</td>\n",
       "      <td>416830.0</td>\n",
       "      <td>5225266.0</td>\n",
       "      <td>3.266259</td>\n",
       "    </tr>\n",
       "  </tbody>\n",
       "</table>\n",
       "<p>67945 rows × 5 columns</p>\n",
       "</div>"
      ],
      "text/plain": [
       "             x1         y1        x2         y2        area\n",
       "10     361630.0  5142466.0  361870.0  5142706.0  206.058478\n",
       "11     361630.0  5142706.0  361870.0  5142946.0  206.058478\n",
       "12     361630.0  5142946.0  361870.0  5143186.0  206.058478\n",
       "13     361630.0  5143186.0  361870.0  5143426.0  206.058478\n",
       "14     361630.0  5143426.0  361870.0  5143666.0  206.058478\n",
       "...         ...        ...       ...        ...         ...\n",
       "94165  416590.0  5206066.0  416830.0  5206306.0   92.922064\n",
       "94166  416590.0  5206306.0  416830.0  5206546.0   27.224741\n",
       "94167  416590.0  5206546.0  416830.0  5206786.0   27.224741\n",
       "94243  416590.0  5224786.0  416830.0  5225026.0    1.695454\n",
       "94244  416590.0  5225026.0  416830.0  5225266.0    3.266259\n",
       "\n",
       "[67945 rows x 5 columns]"
      ]
     },
     "execution_count": 16,
     "metadata": {},
     "output_type": "execute_result"
    }
   ],
   "source": [
    "bboxes"
   ]
  },
  {
   "cell_type": "markdown",
   "metadata": {},
   "source": [
    "### Bounding-Box für ETH"
   ]
  },
  {
   "cell_type": "code",
   "execution_count": null,
   "metadata": {},
   "outputs": [],
   "source": [
    "x_start,x_end, y_start, y_end"
   ]
  },
  {
   "cell_type": "code",
   "execution_count": null,
   "metadata": {},
   "outputs": [],
   "source": [
    "gdf_32632.cx[x_start:x_end, y_start: y_end].plot()"
   ]
  },
  {
   "cell_type": "markdown",
   "metadata": {},
   "source": [
    "# Rasterize GIS-Data\n",
    "## Label-Ebene\n",
    "Die Polygonzüge der einzelnen Landwirtschaftsfelder haben jeweils ein LNF_Code hinterlegt. In einem ersten Schritt wird jedem Polygonzug das Label der 3. Hierarchie (3level) hinterlegt. Die Originaldaten des Kanton Bern werden in das erforderliche Koordinatensystem WGS 84 / UTM zone 32N umgewandelt.\n",
    "In einem zweiten Schritt werden die Polygon-Label auf Rasterebene umgewandelt, so dass jedes Pixel (10 x 10m) ein Label hat. Das Ergebnis ist eine Liste von numpy-arrays, bei dem jeder array die 2.4 x 2.4km der Sentinel-Abfrage darstellt."
   ]
  },
  {
   "cell_type": "code",
   "execution_count": 11,
   "metadata": {},
   "outputs": [],
   "source": [
    "gdf_pair = gdf_32632[['geometry', 'level3']]"
   ]
  },
  {
   "cell_type": "code",
   "execution_count": 12,
   "metadata": {},
   "outputs": [],
   "source": [
    "test_gdf = gdf_pair.itertuples(index=False, name=None)\n",
    "test_gdf = list(test_gdf)\n"
   ]
  },
  {
   "cell_type": "code",
   "execution_count": 28,
   "metadata": {},
   "outputs": [
    {
     "data": {
      "text/html": [
       "<div>\n",
       "<style scoped>\n",
       "    .dataframe tbody tr th:only-of-type {\n",
       "        vertical-align: middle;\n",
       "    }\n",
       "\n",
       "    .dataframe tbody tr th {\n",
       "        vertical-align: top;\n",
       "    }\n",
       "\n",
       "    .dataframe thead th {\n",
       "        text-align: right;\n",
       "    }\n",
       "</style>\n",
       "<table border=\"1\" class=\"dataframe\">\n",
       "  <thead>\n",
       "    <tr style=\"text-align: right;\">\n",
       "      <th></th>\n",
       "      <th>x1</th>\n",
       "      <th>y1</th>\n",
       "      <th>x2</th>\n",
       "      <th>y2</th>\n",
       "      <th>area</th>\n",
       "    </tr>\n",
       "  </thead>\n",
       "  <tbody>\n",
       "    <tr>\n",
       "      <th>10</th>\n",
       "      <td>361630.0</td>\n",
       "      <td>5142466.0</td>\n",
       "      <td>361870.0</td>\n",
       "      <td>5142706.0</td>\n",
       "      <td>206.058478</td>\n",
       "    </tr>\n",
       "    <tr>\n",
       "      <th>11</th>\n",
       "      <td>361630.0</td>\n",
       "      <td>5142706.0</td>\n",
       "      <td>361870.0</td>\n",
       "      <td>5142946.0</td>\n",
       "      <td>206.058478</td>\n",
       "    </tr>\n",
       "    <tr>\n",
       "      <th>12</th>\n",
       "      <td>361630.0</td>\n",
       "      <td>5142946.0</td>\n",
       "      <td>361870.0</td>\n",
       "      <td>5143186.0</td>\n",
       "      <td>206.058478</td>\n",
       "    </tr>\n",
       "    <tr>\n",
       "      <th>13</th>\n",
       "      <td>361630.0</td>\n",
       "      <td>5143186.0</td>\n",
       "      <td>361870.0</td>\n",
       "      <td>5143426.0</td>\n",
       "      <td>206.058478</td>\n",
       "    </tr>\n",
       "    <tr>\n",
       "      <th>14</th>\n",
       "      <td>361630.0</td>\n",
       "      <td>5143426.0</td>\n",
       "      <td>361870.0</td>\n",
       "      <td>5143666.0</td>\n",
       "      <td>206.058478</td>\n",
       "    </tr>\n",
       "    <tr>\n",
       "      <th>...</th>\n",
       "      <td>...</td>\n",
       "      <td>...</td>\n",
       "      <td>...</td>\n",
       "      <td>...</td>\n",
       "      <td>...</td>\n",
       "    </tr>\n",
       "    <tr>\n",
       "      <th>405</th>\n",
       "      <td>361630.0</td>\n",
       "      <td>5237266.0</td>\n",
       "      <td>361870.0</td>\n",
       "      <td>5237506.0</td>\n",
       "      <td>28.712405</td>\n",
       "    </tr>\n",
       "    <tr>\n",
       "      <th>406</th>\n",
       "      <td>361630.0</td>\n",
       "      <td>5237506.0</td>\n",
       "      <td>361870.0</td>\n",
       "      <td>5237746.0</td>\n",
       "      <td>35.447584</td>\n",
       "    </tr>\n",
       "    <tr>\n",
       "      <th>407</th>\n",
       "      <td>361630.0</td>\n",
       "      <td>5237746.0</td>\n",
       "      <td>361870.0</td>\n",
       "      <td>5237986.0</td>\n",
       "      <td>44.423441</td>\n",
       "    </tr>\n",
       "    <tr>\n",
       "      <th>408</th>\n",
       "      <td>361630.0</td>\n",
       "      <td>5237986.0</td>\n",
       "      <td>361870.0</td>\n",
       "      <td>5238226.0</td>\n",
       "      <td>21.496997</td>\n",
       "    </tr>\n",
       "    <tr>\n",
       "      <th>409</th>\n",
       "      <td>361630.0</td>\n",
       "      <td>5238226.0</td>\n",
       "      <td>361870.0</td>\n",
       "      <td>5238466.0</td>\n",
       "      <td>20.196816</td>\n",
       "    </tr>\n",
       "  </tbody>\n",
       "</table>\n",
       "<p>131 rows × 5 columns</p>\n",
       "</div>"
      ],
      "text/plain": [
       "           x1         y1        x2         y2        area\n",
       "10   361630.0  5142466.0  361870.0  5142706.0  206.058478\n",
       "11   361630.0  5142706.0  361870.0  5142946.0  206.058478\n",
       "12   361630.0  5142946.0  361870.0  5143186.0  206.058478\n",
       "13   361630.0  5143186.0  361870.0  5143426.0  206.058478\n",
       "14   361630.0  5143426.0  361870.0  5143666.0  206.058478\n",
       "..        ...        ...       ...        ...         ...\n",
       "405  361630.0  5237266.0  361870.0  5237506.0   28.712405\n",
       "406  361630.0  5237506.0  361870.0  5237746.0   35.447584\n",
       "407  361630.0  5237746.0  361870.0  5237986.0   44.423441\n",
       "408  361630.0  5237986.0  361870.0  5238226.0   21.496997\n",
       "409  361630.0  5238226.0  361870.0  5238466.0   20.196816\n",
       "\n",
       "[131 rows x 5 columns]"
      ]
     },
     "execution_count": 28,
     "metadata": {},
     "output_type": "execute_result"
    }
   ],
   "source": [
    "bboxes[bboxes.index.isin([i for i in range(0,410)])]"
   ]
  },
  {
   "cell_type": "code",
   "execution_count": null,
   "metadata": {},
   "outputs": [],
   "source": [
    "import time\n",
    "import rasterio\n",
    "from rasterio.features import rasterize\n",
    "\n",
    "def raster(coord, geo_df, field_df):\n",
    "    \"\"\"\n",
    "    coord: DataFrame with x and y coordinates of bounding_boxes\n",
    "    geo_df: list of tuple with geometry (Polygon) and value pair\n",
    "    \"\"\"\n",
    "    result_list_pixel = []\n",
    "    result_list_field = []\n",
    "    #TODO: get bboxes from 0:410 or whatever index\n",
    "    \n",
    "    with rasterio.Env():\n",
    "        for i, row in coord.iterrows():\n",
    "            x_coord, y_coord = row['x1'], row['y1']\n",
    "            start_time = time.time()\n",
    "            result = rasterize(geo_df, out_shape=(240, 240), transform=(10, 0, x_coord, 0, -10, y_coord, 0, 0, 1))\n",
    "            result_list_pixel.append(result)\n",
    "            result = rasterize(field_df, out_shape=(240, 240), transform=(10, 0, x_coord, 0, -10, y_coord, 0, 0, 1))\n",
    "            result_list_field.append(result)\n",
    "            print(f\"End Time: {time.time() - start_time}\")\n",
    "    \n",
    "    return result_list_pixel,result_list_field\n"
   ]
  },
  {
   "cell_type": "markdown",
   "metadata": {},
   "source": [
    "## Feld-Ebene"
   ]
  },
  {
   "cell_type": "code",
   "execution_count": null,
   "metadata": {},
   "outputs": [],
   "source": [
    "gdf_pair_field = gdf_32632[['geometry', 'Unnamed: 0', 'level3']]"
   ]
  },
  {
   "cell_type": "code",
   "execution_count": null,
   "metadata": {},
   "outputs": [],
   "source": [
    "gdf_pair_field.columns=['geometry', 'gt_instance', 'level3']\n"
   ]
  },
  {
   "cell_type": "code",
   "execution_count": null,
   "metadata": {},
   "outputs": [],
   "source": [
    "gdf_pair_field['gt_instance'] = gdf_pair_field['gt_instance']+1000000\n",
    "gdf_pair_field.head()"
   ]
  },
  {
   "cell_type": "markdown",
   "metadata": {},
   "source": [
    "Falls wir die Zuordnung Feld - Label nochmals brauchen, exportieren wir dieses als csv. Dies gäbe uns die Möglichkeit, ein stratified Fold zu machen."
   ]
  },
  {
   "cell_type": "code",
   "execution_count": null,
   "metadata": {},
   "outputs": [],
   "source": [
    "gdf_pair_field.drop('geometry',axis=1).to_csv(r'gt_instance-level3.csv') "
   ]
  },
  {
   "cell_type": "code",
   "execution_count": null,
   "metadata": {},
   "outputs": [],
   "source": [
    "gdf_pair_field = gdf_pair_field.drop('level3', axis=1)"
   ]
  },
  {
   "cell_type": "code",
   "execution_count": null,
   "metadata": {},
   "outputs": [],
   "source": [
    "pair_gdf = gdf_pair_field.itertuples(index=False, name=None)\n",
    "pair_gdf = list(pair_gdf)"
   ]
  },
  {
   "cell_type": "code",
   "execution_count": null,
   "metadata": {},
   "outputs": [],
   "source": [
    "result_pixel,result_field = raster(\n",
    "    bboxes, test_gdf,pair_gdf)\n"
   ]
  },
  {
   "cell_type": "code",
   "execution_count": null,
   "metadata": {},
   "outputs": [],
   "source": [
    "plt.imshow(result_pixel[3])\n",
    "plt.show()\n",
    "plt.imshow(result_field[3])\n",
    "plt.show()"
   ]
  },
  {
   "cell_type": "code",
   "execution_count": null,
   "metadata": {},
   "outputs": [],
   "source": [
    "tensor_pixel= torch.Tensor(result_pixel)\n",
    "print(tensor_pixel.size())\n",
    "tensor_field= torch.Tensor(result_field)\n",
    "print(tensor_field.size())"
   ]
  },
  {
   "cell_type": "code",
   "execution_count": null,
   "metadata": {},
   "outputs": [],
   "source": [
    "torch.save(tensor_pixel, '../raw_data/BernCrop/tensor_label_240x240.pt')\n",
    "torch.save(tensor_field, '../raw_data/BernCrop/tensor_field_240x240.pt')"
   ]
  },
  {
   "cell_type": "code",
   "execution_count": null,
   "metadata": {},
   "outputs": [],
   "source": []
  }
 ],
 "metadata": {
  "kernelspec": {
   "display_name": "AgroLuege-2VDmF-75",
   "language": "python",
   "name": "python3"
  },
  "language_info": {
   "codemirror_mode": {
    "name": "ipython",
    "version": 3
   },
   "file_extension": ".py",
   "mimetype": "text/x-python",
   "name": "python",
   "nbconvert_exporter": "python",
   "pygments_lexer": "ipython3",
   "version": "3.10.4"
  }
 },
 "nbformat": 4,
 "nbformat_minor": 4
}
