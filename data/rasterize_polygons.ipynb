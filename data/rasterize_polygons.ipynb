{
 "cells": [
  {
   "cell_type": "code",
   "execution_count": null,
   "metadata": {},
   "outputs": [],
   "source": [
    "import geopandas as gpd\n",
    "import pandas as pd\n",
    "import numpy as np\n",
    "from shapely import wkt\n",
    "import matplotlib.pyplot as plt\n",
    "import rasterio\n",
    "from rasterio.features import rasterize\n",
    "import torch\n",
    "import time"
   ]
  },
  {
   "cell_type": "code",
   "execution_count": null,
   "metadata": {},
   "outputs": [],
   "source": [
    "#TODO: parallelisieren / gdal python binding über cli direct call / 24xhöhe von bbox, nur steps nach rechts und dann splitten? / polygonbasiert \n"
   ]
  },
  {
   "cell_type": "markdown",
   "metadata": {},
   "source": [
    "# Bounding box und Geometrie für Sentinel-Abfrage"
   ]
  },
  {
   "cell_type": "code",
   "execution_count": null,
   "metadata": {},
   "outputs": [],
   "source": [
    "df_raw = pd.read_csv('bern_landkult.csv')\n",
    "labels = pd.read_csv('../Level_hierarchy.csv', usecols=['level3', 'LNF_code'])\n",
    "labels.columns=['level3', 'LNF_CODE']"
   ]
  },
  {
   "cell_type": "code",
   "execution_count": null,
   "metadata": {},
   "outputs": [],
   "source": [
    "df_landkult = pd.merge(df_raw, labels, how='left', on='LNF_CODE' )\n",
    "df_landkult = df_landkult.dropna(subset = ['level3'])"
   ]
  },
  {
   "cell_type": "code",
   "execution_count": null,
   "metadata": {},
   "outputs": [],
   "source": [
    "df_landkult['geometry'] = df_landkult['geometry'].apply(wkt.loads)\n",
    "crs = {'init': 'epsg:2056'}\n",
    "gdf = gpd.GeoDataFrame(df_landkult, crs=crs, geometry='geometry')\n",
    "gdf_32632 = gdf.to_crs(32632)\n",
    "gdf_32632.head()"
   ]
  },
  {
   "cell_type": "code",
   "execution_count": null,
   "metadata": {},
   "outputs": [],
   "source": [
    "#gdf_32632.plot()"
   ]
  },
  {
   "cell_type": "code",
   "execution_count": null,
   "metadata": {},
   "outputs": [],
   "source": [
    "# from sentinelhub import (\n",
    "#     CRS,\n",
    "#     BBox,\n",
    "#     bbox_to_dimensions\n",
    "# )"
   ]
  },
  {
   "cell_type": "markdown",
   "metadata": {},
   "source": [
    "Sentinel stellt Funktionen bereit, die mithilfe des Parameters \"resolution\" die Pixelgrösse angibt. Damit können wir einen durch 240 pixel (=2.4km) teilbaren Ausschnitt wählen, den wir jeweils mit einem request bei Sentinel abfragen können.\n",
    "Wir werden ein Mosaik aus 23 x 41 Elementen haben für den Kanton Bern."
   ]
  },
  {
   "cell_type": "code",
   "execution_count": null,
   "metadata": {},
   "outputs": [],
   "source": [
    "x_start = 361630.\n",
    "y_start = 5140066.\n",
    "x_end = x_start + 23*2400\n",
    "y_end = y_start + 41*2400\n",
    "bbox_to_dimensions(BBox(bbox=(x_start, y_start, x_end, y_end), crs=32632), resolution=10)"
   ]
  },
  {
   "cell_type": "code",
   "execution_count": null,
   "metadata": {},
   "outputs": [],
   "source": [
    "area_box = []\n",
    "x_start = 361630.\n",
    "y_start = 5140066.\n",
    "step= 240\n",
    "x_end = x_start + 230*step\n",
    "y_end = y_start + 410*step\n",
    "x_coordinate = list(np.arange(x_start, x_end, step))\n",
    "y_coordinate = list(np.arange(y_start, y_end, step))\n",
    "for i in range(len(x_coordinate)):\n",
    "    for j in range(len(y_coordinate)):\n",
    "        area = gdf_32632.cx[x_coordinate[i]:x_coordinate[i]+240, y_coordinate[j]:y_coordinate[j]+240].Shape_Area.sum()/10000\n",
    "        box_entry = {'x1': x_coordinate[i], 'y1': y_coordinate[j],'x2': x_coordinate[i]+240,'y2': y_coordinate[j]+240, 'area': area}\n",
    "        area_box.append(box_entry)\n",
    "area_boxes = pd.DataFrame(area_box)"
   ]
  },
  {
   "cell_type": "code",
   "execution_count": null,
   "metadata": {},
   "outputs": [],
   "source": [
    "plt.scatter(x='x1', y='y1', s='area', data=area_boxes, alpha=0.5, c='g')"
   ]
  },
  {
   "cell_type": "code",
   "execution_count": null,
   "metadata": {},
   "outputs": [],
   "source": [
    "area_boxes.replace(0, np.nan, inplace=True)\n",
    "print(area_boxes.area.isna().sum())"
   ]
  },
  {
   "cell_type": "code",
   "execution_count": null,
   "metadata": {},
   "outputs": [],
   "source": [
    "bboxes = area_boxes.copy()\n",
    "bboxes = bboxes.dropna(subset = ['area'])\n",
    "bboxes.to_csv('../raw_data/BernCrop/bboxes_sentinel_240x240.csv')\n",
    "bboxes = bboxes.drop(columns=['x2', 'y2', 'area'])"
   ]
  },
  {
   "cell_type": "markdown",
   "metadata": {},
   "source": [
    "### Bounding-Box für ETH"
   ]
  },
  {
   "cell_type": "code",
   "execution_count": null,
   "metadata": {},
   "outputs": [],
   "source": [
    "x_start,x_end, y_start, y_end"
   ]
  },
  {
   "cell_type": "code",
   "execution_count": null,
   "metadata": {},
   "outputs": [],
   "source": [
    "gdf_32632.cx[x_start:x_end, y_start: y_end].plot()"
   ]
  },
  {
   "cell_type": "markdown",
   "metadata": {},
   "source": [
    "# Rasterize GIS-Data\n",
    "## Label-Ebene\n",
    "Die Polygonzüge der einzelnen Landwirtschaftsfelder haben jeweils ein LNF_Code hinterlegt. In einem ersten Schritt wird jedem Polygonzug das Label der 3. Hierarchie (3level) hinterlegt. Die Originaldaten des Kanton Bern werden in das erforderliche Koordinatensystem WGS 84 / UTM zone 32N umgewandelt.\n",
    "In einem zweiten Schritt werden die Polygon-Label auf Rasterebene umgewandelt, so dass jedes Pixel (10 x 10m) ein Label hat. Das Ergebnis ist eine Liste von numpy-arrays, bei dem jeder array die 2.4 x 2.4km der Sentinel-Abfrage darstellt."
   ]
  },
  {
   "cell_type": "code",
   "execution_count": null,
   "metadata": {},
   "outputs": [],
   "source": [
    "gdf_pair = gdf_32632[['geometry', 'level3']]"
   ]
  },
  {
   "cell_type": "code",
   "execution_count": null,
   "metadata": {},
   "outputs": [],
   "source": [
    "test_gdf = gdf_pair.itertuples(index=False, name=None)\n",
    "test_gdf = list(test_gdf)\n"
   ]
  },
  {
   "cell_type": "code",
   "execution_count": null,
   "metadata": {},
   "outputs": [],
   "source": [
    "bboxes = pd.read_csv(r'..\\raw_data\\BernCrop\\bboxes_sentinel_24x24.csv',index_col=[0])"
   ]
  },
  {
   "cell_type": "code",
   "execution_count": null,
   "metadata": {},
   "outputs": [],
   "source": [
    "import geopandas as gpd\n",
    "from shapely.geometry import Polygon\n",
    "\n",
    "# Assuming your data is in a CSV file named 'polygons_data.csv'\n",
    "data = bboxes[bboxes.index.isin([10,409,410])]\n",
    "\n",
    "# Create a GeoDataFrame\n",
    "geometry = [Polygon([(row['x1'], row['y1']), (row['x2'], row['y1']),\n",
    "                     (row['x2'], row['y2']), (row['x1'], row['y2'])]) for _, row in data.iterrows()]\n",
    "\n",
    "gdf = gpd.GeoDataFrame(data, geometry=geometry)\n",
    "\n",
    "# Plot the GeoDataFrame\n",
    "gdf.plot(edgecolor='blue', facecolor='green', alpha=0.4)\n",
    "plt.title('Polygons Plot on Map')\n",
    "plt.xlabel('X-axis')\n",
    "plt.ylabel('Y-axis')\n",
    "plt.show()\n"
   ]
  },
  {
   "cell_type": "code",
   "execution_count": null,
   "metadata": {},
   "outputs": [],
   "source": [
    "import time\n",
    "import rasterio\n",
    "from rasterio.features import rasterize\n",
    "\n",
    "def raster(coord, geo_df, field_df):\n",
    "    \"\"\"\n",
    "    coord: DataFrame with x and y coordinates of bounding_boxes\n",
    "    geo_df: list of tuple with geometry (Polygon) and value pair\n",
    "    \"\"\"\n",
    "    # result_list_pixel = []\n",
    "    # result_list_field = []\n",
    "    \n",
    "    with rasterio.Env():\n",
    "        # for i, row in coord.iterrows():\n",
    "        x_coord, y_coord = coord['x1'].min(), coord['y1'].min()\n",
    "        start_time = time.time()\n",
    "        # result = rasterize(geo_df, out_shape=(24, 24*410), transform=(10, 0, x_coord, 0, -10, y_coord, 0, 0, 1))\n",
    "        result_pixel = rasterize(geo_df, out_shape=(24, 24*410), transform=(10, 0, x_coord, 0, -10, y_coord, 0, 0, 1))\n",
    "        result_field = rasterize(field_df, out_shape=(24, 24*410), transform=(10, 0, x_coord, 0, -10, y_coord, 0, 0, 1))\n",
    "        print(f\"End Time: {time.time() - start_time}\")\n",
    "    \n",
    "    return result_pixel,result_field\n",
    "\n"
   ]
  },
  {
   "cell_type": "markdown",
   "metadata": {},
   "source": [
    "## Feld-Ebene"
   ]
  },
  {
   "cell_type": "code",
   "execution_count": null,
   "metadata": {},
   "outputs": [],
   "source": [
    "gdf_pair_field = gdf_32632[['geometry', 'Unnamed: 0', 'level3']]"
   ]
  },
  {
   "cell_type": "code",
   "execution_count": null,
   "metadata": {},
   "outputs": [],
   "source": [
    "gdf_pair_field.columns=['geometry', 'gt_instance', 'level3']\n"
   ]
  },
  {
   "cell_type": "code",
   "execution_count": null,
   "metadata": {},
   "outputs": [],
   "source": [
    "gdf_pair_field['gt_instance'] = gdf_pair_field['gt_instance']+1000000\n",
    "gdf_pair_field.head()"
   ]
  },
  {
   "cell_type": "markdown",
   "metadata": {},
   "source": [
    "Falls wir die Zuordnung Feld - Label nochmals brauchen, exportieren wir dieses als csv. Dies gäbe uns die Möglichkeit, ein stratified Fold zu machen."
   ]
  },
  {
   "cell_type": "code",
   "execution_count": null,
   "metadata": {},
   "outputs": [],
   "source": [
    "gdf_pair_field.drop('geometry',axis=1).to_csv(r'gt_instance-level3.csv') "
   ]
  },
  {
   "cell_type": "code",
   "execution_count": null,
   "metadata": {},
   "outputs": [],
   "source": [
    "gdf_pair_field = gdf_pair_field.drop('level3', axis=1)"
   ]
  },
  {
   "cell_type": "code",
   "execution_count": null,
   "metadata": {},
   "outputs": [],
   "source": [
    "pair_gdf = gdf_pair_field.itertuples(index=False, name=None)\n",
    "pair_gdf = list(pair_gdf)"
   ]
  },
  {
   "cell_type": "code",
   "execution_count": null,
   "metadata": {},
   "outputs": [],
   "source": [
    "# loop over slices\n",
    "result_pixel_list = []\n",
    "result_field_list = []\n",
    "\n",
    "for slice in range(0, 2):\n",
    "    start_index = slice * 410\n",
    "    end_index = (slice + 1) * 410\n",
    "    indexes = [i for i in range(start_index, end_index)]\n",
    "    # print(indexes)\n",
    "    bboxes_slice = bboxes[bboxes.index.isin(indexes)]\n",
    "    result_pixel,result_field = raster(bboxes_slice, test_gdf,pair_gdf)\n",
    "    result_pixel_list.append(result_pixel.reshape(-1,24,24))\n",
    "    result_field_list.append(result_field.reshape(-1,24,24))\n",
    "    \n"
   ]
  },
  {
   "cell_type": "code",
   "execution_count": null,
   "metadata": {},
   "outputs": [],
   "source": [
    "np.array(result_pixel_list).shape"
   ]
  },
  {
   "cell_type": "code",
   "execution_count": null,
   "metadata": {},
   "outputs": [],
   "source": [
    "np.array(result_pixel_list).reshape(-1,24,24).shape"
   ]
  },
  {
   "cell_type": "code",
   "execution_count": null,
   "metadata": {},
   "outputs": [],
   "source": [
    "np.array(result_field_list).shape"
   ]
  },
  {
   "cell_type": "code",
   "execution_count": null,
   "metadata": {},
   "outputs": [],
   "source": [
    "np.unique(result_pixel_list[0])"
   ]
  },
  {
   "cell_type": "code",
   "execution_count": null,
   "metadata": {},
   "outputs": [],
   "source": [
    "result_pixel,result_field = raster(\n",
    "    bboxes, test_gdf,pair_gdf)\n"
   ]
  },
  {
   "cell_type": "code",
   "execution_count": null,
   "metadata": {},
   "outputs": [],
   "source": [
    "plt.imshow(result_field_list[1][3])\n",
    "plt.show()\n",
    "plt.imshow(result_pixel_list[1][3])\n",
    "plt.show()"
   ]
  },
  {
   "cell_type": "code",
   "execution_count": null,
   "metadata": {},
   "outputs": [],
   "source": [
    "result_pixel_list = np.array(result_pixel_list).reshape(-1,24,24)\n",
    "result_field_list = np.array(result_field_list).reshape(-1,24,24)"
   ]
  },
  {
   "cell_type": "code",
   "execution_count": null,
   "metadata": {},
   "outputs": [],
   "source": [
    "result_field_list = result_field_list.astype(int)"
   ]
  },
  {
   "cell_type": "code",
   "execution_count": null,
   "metadata": {},
   "outputs": [],
   "source": [
    "result_field_list"
   ]
  },
  {
   "cell_type": "code",
   "execution_count": null,
   "metadata": {},
   "outputs": [],
   "source": [
    "tensor_pixel= torch.Tensor(result_pixel_list)\n",
    "print(tensor_pixel.size())\n",
    "tensor_field= torch.Tensor(result_field_list)\n",
    "print(tensor_field.size())"
   ]
  },
  {
   "cell_type": "code",
   "execution_count": null,
   "metadata": {},
   "outputs": [],
   "source": [
    "torch.save(tensor_pixel, '../raw_data/BernCrop/tensor_label_24x24.pt')\n",
    "torch.save(tensor_field, '../raw_data/BernCrop/tensor_field_24x24.pt')"
   ]
  },
  {
   "cell_type": "code",
   "execution_count": null,
   "metadata": {},
   "outputs": [],
   "source": []
  }
 ],
 "metadata": {
  "kernelspec": {
   "display_name": "AgroLuege-2VDmF-75",
   "language": "python",
   "name": "python3"
  },
  "language_info": {
   "codemirror_mode": {
    "name": "ipython",
    "version": 3
   },
   "file_extension": ".py",
   "mimetype": "text/x-python",
   "name": "python",
   "nbconvert_exporter": "python",
   "pygments_lexer": "ipython3",
   "version": "3.10.5"
  }
 },
 "nbformat": 4,
 "nbformat_minor": 4
}
