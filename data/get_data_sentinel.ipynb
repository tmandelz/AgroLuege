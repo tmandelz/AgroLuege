{
 "cells": [
  {
   "cell_type": "code",
   "execution_count": null,
   "metadata": {},
   "outputs": [],
   "source": [
    "from sentinelhub import SHConfig\n",
    "import h5py\n",
    "import numpy as np\n",
    "import torch\n",
    "import datetime\n",
    "import os\n",
    "import pandas as pd\n",
    "\n",
    "import matplotlib.pyplot as plt\n",
    "import numpy as np\n",
    "\n",
    "\n",
    "from sentinelhub import (\n",
    "    CRS,\n",
    "    BBox,\n",
    "    DataCollection,\n",
    "    DownloadRequest,\n",
    "    MimeType,\n",
    "    MosaickingOrder,\n",
    "    SentinelHubDownloadClient,\n",
    "    SentinelHubRequest,\n",
    "    bbox_to_dimensions,\n",
    "    ResamplingType\n",
    ")"
   ]
  },
  {
   "cell_type": "code",
   "execution_count": null,
   "metadata": {},
   "outputs": [],
   "source": []
  },
  {
   "cell_type": "code",
   "execution_count": null,
   "metadata": {},
   "outputs": [],
   "source": [
    "def create_config(instance_id='8b5b5797-c269-42a4-b75a-dc1ed7e469a8',\n",
    "                  sh_client_id='f00771eb-624d-4106-973a-98963b395356',\n",
    "                  sh_client_secret='vnUy3ozu_s[z}W1O/>l6%U6GsfLfs]tLeS@jBs%!',\n",
    "                  sh_base_url='https://services.sentinel-hub.com',\n",
    "                  ):\n",
    "    config = SHConfig(\n",
    "        instance_id=instance_id,\n",
    "        sh_client_id=sh_client_id,\n",
    "        sh_client_secret=sh_client_secret,\n",
    "        sh_base_url=sh_base_url,\n",
    "    )\n",
    "    if not config.sh_client_id or not config.sh_client_secret:\n",
    "        print(\"Warning! To use Process API, please provide the credentials (OAuth client ID and client secret).\")\n",
    "    return config\n",
    "def create_bbox(coordinates:tuple, resolution:int=10, crs:int=32632):\n",
    "    resolution = resolution\n",
    "    bbox = BBox(bbox=coordinates, crs=crs)\n",
    "    bbox_size = bbox_to_dimensions(bbox, resolution=resolution)\n",
    "    print(f\"Image shape at {resolution} m resolution: {bbox_size} pixels\")\n",
    "    return bbox, bbox_size\n",
    "\n",
    "def create_time_slots(n_chunks :int = 365,\n",
    "                      start_date :datetime.datetime = datetime.datetime(2022, 1, 1),\n",
    "                      end_date :datetime.datetime = datetime.datetime(2022, 12, 31)):\n",
    "    tdelta = (end_date - start_date) / n_chunks\n",
    "    edges = [(start_date + i * tdelta).date().isoformat() for i in range(n_chunks)]\n",
    "    slots = [(edges[i], edges[i + 1]) for i in range(len(edges) - 1)]\n",
    "\n",
    "    print(\"time windows:\\n\")\n",
    "    for slot in slots:\n",
    "        print(slot)\n",
    "    return slots\n",
    "\n",
    "def get_rgbnir_color_request(time_interval, coordinates:tuple):\n",
    "\n",
    "    evalscript_true_color = \"\"\"\n",
    "    //VERSION=3\n",
    "\n",
    "    function setup() {\n",
    "        return {\n",
    "            input: [{\n",
    "                bands: [\"B02\", \"B03\", \"B04\", \"B08\"]\n",
    "            }],\n",
    "            output: {\n",
    "                bands: 4\n",
    "            }\n",
    "        };\n",
    "    }\n",
    "\n",
    "    function evaluatePixel(sample) {\n",
    "        return [sample.B04, sample.B03, sample.B02 , sample.B08];\n",
    "    }\n",
    "\"\"\"\n",
    "    bbox, bbox_size = create_bbox(coordinates)\n",
    "    return SentinelHubRequest(\n",
    "        evalscript=evalscript_true_color,\n",
    "        input_data=[\n",
    "            SentinelHubRequest.input_data(\n",
    "                data_collection=DataCollection.SENTINEL2_L2A,\n",
    "                time_interval=time_interval,\n",
    "                mosaicking_order=MosaickingOrder.LEAST_CC,\n",
    "            )\n",
    "        ],\n",
    "        responses=[SentinelHubRequest.output_response(\"default\", MimeType.PNG)],\n",
    "        bbox=bbox,\n",
    "        size=bbox_size,\n",
    "        config=create_config(),\n",
    "    )\n",
    "\n",
    "\n",
    "def get_coords():\n",
    "    coords = pd.read_csv(r'bboxes_sentinel.csv',index_col=None)\n",
    "    coords = coords[coords['area'] >0].sort_values(by='area',ascending=False)\n",
    "    coords= coords.iloc[:,1:5]\n",
    "    return coords"
   ]
  },
  {
   "cell_type": "code",
   "execution_count": null,
   "metadata": {},
   "outputs": [],
   "source": [
    "config=create_config()"
   ]
  },
  {
   "cell_type": "code",
   "execution_count": null,
   "metadata": {},
   "outputs": [],
   "source": [
    "coords = get_coords().iloc[0:2]\n",
    "coords"
   ]
  },
  {
   "cell_type": "code",
   "execution_count": null,
   "metadata": {},
   "outputs": [],
   "source": [
    "%%capture download_log --no-stderr\n",
    "print(f\"Start Download at: {datetime.datetime.today()}\")\n",
    "\n",
    "coords = [((361630.678100406, 5140066.039024595, 360630.678100406, 5140166.039024595)),((361630.678100406, 5140066.039024595, 360630.678100406, 5140166.039024595))]\n",
    "temp_results_tensor = []\n",
    "# for i,coordinates in coords.iterrows():\n",
    "for i,coordinates in enumerate(coords):\n",
    "    print(f'started downloading bounding_box: {coordinates} with index:{i}')\n",
    "    list_of_requests = [get_rgbnir_color_request(time_interval, tuple(coordinates)) for time_interval in create_time_slots()]\n",
    "    list_of_requests = [request.download_list[0] for request in list_of_requests]\n",
    "    # download data with multiple threads\n",
    "    download_data_timesteps = SentinelHubDownloadClient(config=config).download(list_of_requests, max_threads=5)\n",
    "    non_zero_downloads = torch.tensor([v for i,v in enumerate(download_data_timesteps) if download_data_timesteps[i].sum() > 0]).unsqueeze(0)\n",
    "    temp_results_tensor.append(non_zero_downloads)\n",
    "\n",
    "result_tensor = torch.cat(temp_results_tensor, dim=0)\n",
    "print(f\"Stopped Download at: {datetime.datetime.today()}\")\n",
    "\n",
    "print(f\"Start Saving Data at: {datetime.datetime.today()}\")\n",
    "file_name = \"data.hd5\"\n",
    "with h5py.File(file_name, 'w') as hf:\n",
    "    dataset_name = 'data'\n",
    "    hf.create_dataset(dataset_name, data=result_tensor)\n",
    "\n",
    "print(f\"Stopped Saving Data at: {datetime.datetime.today()}\")"
   ]
  },
  {
   "cell_type": "code",
   "execution_count": null,
   "metadata": {},
   "outputs": [],
   "source": [
    "with open(r'../_log/download_log.log', 'w') as f:\n",
    "    f.write(str(download_log))"
   ]
  },
  {
   "cell_type": "code",
   "execution_count": null,
   "metadata": {},
   "outputs": [],
   "source": [
    "file_name = \"bern_bbox_2.hd5\"  # Replace with the name of your HDF5 file\n",
    "# Open the HDF5 file in read mode\n",
    "with h5py.File(file_name, \"r\") as file:\n",
    "    # Check if the \"data\" dataset exists in the file\n",
    "    if \"data\" in file:\n",
    "        # Access the dataset and read its contents into a NumPy array\n",
    "        dataset = file[\"data\"][:]\n",
    "    else:\n",
    "        print(\"Dataset 'data' not found in the HDF5 file.\")\n"
   ]
  },
  {
   "cell_type": "code",
   "execution_count": null,
   "metadata": {},
   "outputs": [],
   "source": [
    "dataset.shape"
   ]
  },
  {
   "cell_type": "code",
   "execution_count": null,
   "metadata": {},
   "outputs": [],
   "source": [
    "for i in range(dataset.shape[0]):\n",
    "    for j in range(dataset.shape[1]):\n",
    "        image = torch.tensor(dataset[i, j,:, :, 0:3])\n",
    "        \n",
    "        plt.imshow(image.permute(0, 1, 2).numpy())\n",
    "        plt.show()"
   ]
  },
  {
   "cell_type": "code",
   "execution_count": null,
   "metadata": {},
   "outputs": [],
   "source": [
    "image.shape"
   ]
  },
  {
   "cell_type": "code",
   "execution_count": null,
   "metadata": {},
   "outputs": [],
   "source": [
    "# Select the image at index 0\n",
    "image = torch.tensor(dataset[0][ 1, :, :, 0])\n",
    "image = image.view(240, 240)\n",
    "# Plot the image\n",
    "plt.imshow(image.numpy(), cmap='gray')\n",
    "plt.show()\n"
   ]
  },
  {
   "cell_type": "code",
   "execution_count": null,
   "metadata": {},
   "outputs": [],
   "source": [
    "# Select the image at index 0\n",
    "image = torch.tensor(dataset['data'][0][ 0, :, :, 0])\n",
    "image = image.view(10, 100)\n",
    "# Plot the image\n",
    "plt.imshow(image.numpy(), cmap='gray')\n",
    "plt.show()\n"
   ]
  },
  {
   "cell_type": "code",
   "execution_count": null,
   "metadata": {},
   "outputs": [],
   "source": []
  }
 ],
 "metadata": {
  "kernelspec": {
   "display_name": "AgroLuege--zjmSdF3",
   "language": "python",
   "name": "python3"
  },
  "language_info": {
   "codemirror_mode": {
    "name": "ipython",
    "version": 3
   },
   "file_extension": ".py",
   "mimetype": "text/x-python",
   "name": "python",
   "nbconvert_exporter": "python",
   "pygments_lexer": "ipython3",
   "version": "3.10.5"
  }
 },
 "nbformat": 4,
 "nbformat_minor": 2
}
