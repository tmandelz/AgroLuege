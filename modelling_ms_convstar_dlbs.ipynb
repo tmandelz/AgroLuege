{
 "cells": [
  {
   "cell_type": "code",
   "execution_count": null,
   "metadata": {},
   "outputs": [],
   "source": [
    "from src import train_dlbs\n",
    "from src import test\n",
    "import numpy as np\n",
    "import torch\n",
    "import wandb"
   ]
  },
  {
   "cell_type": "code",
   "execution_count": null,
   "metadata": {},
   "outputs": [],
   "source": [
    "output = train_dlbs.main(\n",
    "    datadir = \"./raw_data/ZueriCrop/ZueriCrop.hdf5\",\n",
    "    workers= 0,\n",
    "    batchsize=4,\n",
    "    epochs=30,\n",
    "    lr=0.001,\n",
    "    snapshot=None,\n",
    "    checkpoint_dir=\"./checkpoint/\",\n",
    "    layer=6,\n",
    "    lambda_1=0.1,\n",
    "    lambda_2=0.5,\n",
    "    weight_decay=0.0001,\n",
    "    hidden=64,\n",
    "    lrS=2,\n",
    "    name=\"msConvSTAR\",\n",
    "    dropout=0.5,\n",
    "    stage=3,\n",
    "    clip=5,\n",
    "    seed=0,\n",
    "    gt_path=\"./raw_data/ZueriCrop/labels.csv\",\n",
    "    cell=\"star\",\n",
    "    input_dim=4,\n",
    "    apply_cm=False,\n",
    "    fold_num=1,\n",
    "    project= \"DLBS-MS-Convstar\",\n",
    "    run_group=\"TEST\",\n",
    "    skip_winter=True,\n",
    "    n_skip_image=11,\n",
    "    normalize=True\n",
    ")"
   ]
  }
 ],
 "metadata": {
  "kernelspec": {
   "display_name": "Python 3",
   "language": "python",
   "name": "python3"
  },
  "language_info": {
   "codemirror_mode": {
    "name": "ipython",
    "version": 3
   },
   "file_extension": ".py",
   "mimetype": "text/x-python",
   "name": "python",
   "nbconvert_exporter": "python",
   "pygments_lexer": "ipython3",
   "version": "3.10.7"
  }
 },
 "nbformat": 4,
 "nbformat_minor": 4
}
